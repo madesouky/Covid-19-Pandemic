{
 "cells": [
  {
   "cell_type": "markdown",
   "metadata": {
    "slideshow": {
     "slide_type": "slide"
    }
   },
   "source": [
    "<a id=\"top\"></a>\n",
    "<h1 style=\"font-size:50px; color:#3A71AE\"><center>Data Wrangling</center></h1>"
   ]
  },
  {
   "cell_type": "markdown",
   "metadata": {
    "slideshow": {
     "slide_type": "skip"
    }
   },
   "source": [
    "<h1 style=\"font-size:35px; color:#3A71AE\">Table of Content:</h1>\n",
    "\n",
    "1. [**Introduction**](#id_1)\n",
    "2. [**Notebook Structure**](#id_2)\n",
    "3. [**Gathering**](#id_3)\n",
    "4. [**Assessing**](#id_4)\n",
    "5. [**Cleaning**](#id_5)\n",
    "6. [**Data Storing**](#id_6)"
   ]
  },
  {
   "cell_type": "markdown",
   "metadata": {
    "slideshow": {
     "slide_type": "skip"
    }
   },
   "source": [
    "<a id=\"id_1\"></a>\n",
    "<h1 style=\"font-size:30px; color:#3A71AE\">Introduction</h1>\n",
    "\n",
    "This project has **two notebooks** that needed to perform the compelete data analysis process. \n",
    "\n",
    "In the **first notebook**, we will start with [**Data Wrangling**](https://en.wikipedia.org/wiki/Data_wrangling) techniques, e.g. [**Gather**](#id_3), [**Assess**](#id_4) and [**Clean**](#id_5) [**The Dataset**](#id_1_1). \n",
    "\n",
    "While, in the **second notebook**, we will use Python visualization libraries to systematically `explore` a selected dataset, starting from plots of single variables and building up to plots of multiple variables, then `communicate` the interesting properties, trends, and relationships that we discovered through aesthetic and polished visuals.\n",
    "\n",
    "**Before anything, let's find out:**\n",
    "- [**The Dataset**](#id_1_1)\n",
    "- [**Coronavirus Pandemic**](#id_1_2)\n",
    "- [**Variables Description**](#id_1_3)\n",
    "- [**Our Goal**](#id_1_4)\n",
    "- [**Project Outline**](#id_1_5)\n",
    "\n",
    "\n",
    "[Back to Top](#top)"
   ]
  },
  {
   "cell_type": "markdown",
   "metadata": {
    "slideshow": {
     "slide_type": "slide"
    }
   },
   "source": [
    "<a id=\"id_1_1\"></a>\n",
    "## [The Dataset](#id_1_1)\n",
    "**The data** I will be using (and analyzing and visualizing) is dataset about **Coronavirus** Pandemic (COVID-19) avalibale via [**Our World in Data**](https://ourworldindata.org/coronavirus) website.\n",
    "\n",
    "According to [WikiPedia](https://en.wikipedia.org/wiki/Our_World_in_Data), **Our World in Data** (OWID) is a scientific online publication that focuses on large global problems such as poverty, disease, hunger, climate change, war, existential risks, and inequality.\n",
    "\n",
    "The trajectories show the daily number of confirmed cases. But the widely available data on confirmed cases only becomes meaningful when it can be interpreted in light of how much a country is testing. This is why **Our World in Data** built the [global database on COVID-19 testing](https://ourworldindata.org/coronavirus-testing) and the line colors in this chart show whether a country is testing adequately or not.\n",
    "\n",
    "**Note:** This project is dated `21-9-2020`.\n",
    "\n",
    "[Back to Introduction](#id_1)"
   ]
  },
  {
   "cell_type": "markdown",
   "metadata": {
    "slideshow": {
     "slide_type": "slide"
    }
   },
   "source": [
    "<a id=\"id_1_2\"></a>\n",
    "## [Coronavirus Pandemic](#id_1_2)\n",
    "The [**Coronavirus**](https://www.undp.org/content/undp/en/home/coronavirus.html) COVID-19 pandemic is the defining global health crisis of our time and the greatest challenge we have faced since World War Two. Since its emergence in Asia late last year, the virus has spread to every continent except Antarctica.\n",
    "\n",
    "But the **pandemic** is much more than a `health crisis`, it's also an unprecedented `socio-economic crisis`. Stressing every one of the countries it touches, it has the potential to create devastating social, economic and political effects that will leave deep and longstanding scars. UNDP is the technical lead in the UN’s socio-economic recovery, alongside the health response, led by WHO, and the Global Humanitarian Response Plan, and working under the leadership of the UN Resident Coordinators.\n",
    "\n",
    "In this **project**, I'm will try to find some `insights` or `answers` that may help people or reduce suffering due to this pandemic.\n",
    "\n",
    "[Back to Introduction](#id_1)"
   ]
  },
  {
   "cell_type": "markdown",
   "metadata": {
    "slideshow": {
     "slide_type": "skip"
    }
   },
   "source": [
    "<a id=\"id_1_3\"></a>\n",
    "## [Variables Description](#id_1_3)\n",
    "\n",
    "This [**link**](https://github.com/owid/covid-19-data/blob/master/public/data/owid-covid-codebook.csv) on Github provided by [**Our World in Data**](https://ourworldindata.org/coronavirus) website, contains all the descriptions of the variables that we will be using.\n",
    "\n",
    "[Back to Introduction](#id_1)"
   ]
  },
  {
   "cell_type": "markdown",
   "metadata": {
    "slideshow": {
     "slide_type": "slide"
    }
   },
   "source": [
    "<a id=\"id_1_4\"></a>\n",
    "## [Our Goal](#id_1_4)\n",
    "Data visualization is an important skill that is used in many parts of the data analysis process. \n",
    "\n",
    "**Our goals will be:**\n",
    "- Performing both **exploratory** data visualization and **explanatory** data visualization.\n",
    "- Supplement **statistics** with **visualizations** to build understanding of data.\n",
    "- Choose appropriate **plots**, **limits**, **transformations**, and **aesthetics** to explore the dataset.\n",
    "- Use **design principles** to create effective visualizations for communicating findings to an audience.\n",
    "\n",
    "[Back to Introduction](#id_1)"
   ]
  },
  {
   "cell_type": "markdown",
   "metadata": {
    "slideshow": {
     "slide_type": "skip"
    }
   },
   "source": [
    "<a id=\"id_1_5\"></a>\n",
    "## [Project Outline](#id_1_5)\n",
    "In this **project** I'm going to perform all of the sections below:\n",
    "- [ ] Gathering\n",
    "- [ ] Assessing\n",
    "- [ ] Cleaning\n",
    "- [ ] Storing\n",
    "- [ ] Analyzing\n",
    "- [ ] Visualizing\n",
    "- [ ] Reporting<br><br>\n",
    "\n",
    "[Back to Introduction](#id_1)"
   ]
  },
  {
   "cell_type": "markdown",
   "metadata": {
    "slideshow": {
     "slide_type": "skip"
    }
   },
   "source": [
    "<a id=\"id_2\"></a>\n",
    "<h1 style=\"font-size:30px; color:#3A71AE\">Notebook Structure</h1>\n",
    "\n",
    "**This Notebook will be structured as follows:**<br>\n",
    "- We will start with **Data Wrangling Process** to [Gather](#id_3), [Assess](#id_4) and [Clean](#id_5) the data.\n",
    "- After wrangling our data, we will storing it for any future purposes.\n",
    "\n",
    "[Back to Top](#top)"
   ]
  },
  {
   "cell_type": "markdown",
   "metadata": {
    "slideshow": {
     "slide_type": "skip"
    }
   },
   "source": [
    "<a id=\"id_3\"></a>\n",
    "<h1 style=\"font-size:30px; color:#3A71AE\">Gathering Data</h1>\n",
    "\n",
    "Data wrangling consists of three steps: [**Gathering**](#id_3), [**Assessing**](#id_4) and [**Cleaning**](#id_5)\n",
    "\n",
    "[Gathering data](https://ori.hhs.gov/education/products/n_illinois_u/datamanagement/dctopic.html) is the first step in data wrangling. It is the process of collecting and measuring information on variables of interest, in an established systematic fashion that enables one to answer stated research questions, test hypotheses, and evaluate outcomes.\n",
    "\n",
    "For this project, data are ready and available to be downloaded. So, no further effort need for this step.\n",
    "\n",
    "[Back to Top](#top)"
   ]
  },
  {
   "cell_type": "code",
   "execution_count": 1,
   "metadata": {
    "slideshow": {
     "slide_type": "skip"
    }
   },
   "outputs": [
    {
     "name": "stdout",
     "output_type": "stream",
     "text": [
      "(45207, 41)\n"
     ]
    },
    {
     "data": {
      "text/html": [
       "<div>\n",
       "<style scoped>\n",
       "    .dataframe tbody tr th:only-of-type {\n",
       "        vertical-align: middle;\n",
       "    }\n",
       "\n",
       "    .dataframe tbody tr th {\n",
       "        vertical-align: top;\n",
       "    }\n",
       "\n",
       "    .dataframe thead th {\n",
       "        text-align: right;\n",
       "    }\n",
       "</style>\n",
       "<table border=\"1\" class=\"dataframe\">\n",
       "  <thead>\n",
       "    <tr style=\"text-align: right;\">\n",
       "      <th></th>\n",
       "      <th>iso_code</th>\n",
       "      <th>continent</th>\n",
       "      <th>location</th>\n",
       "      <th>date</th>\n",
       "      <th>total_cases</th>\n",
       "      <th>new_cases</th>\n",
       "      <th>new_cases_smoothed</th>\n",
       "      <th>total_deaths</th>\n",
       "      <th>new_deaths</th>\n",
       "      <th>new_deaths_smoothed</th>\n",
       "      <th>...</th>\n",
       "      <th>gdp_per_capita</th>\n",
       "      <th>extreme_poverty</th>\n",
       "      <th>cardiovasc_death_rate</th>\n",
       "      <th>diabetes_prevalence</th>\n",
       "      <th>female_smokers</th>\n",
       "      <th>male_smokers</th>\n",
       "      <th>handwashing_facilities</th>\n",
       "      <th>hospital_beds_per_thousand</th>\n",
       "      <th>life_expectancy</th>\n",
       "      <th>human_development_index</th>\n",
       "    </tr>\n",
       "  </thead>\n",
       "  <tbody>\n",
       "    <tr>\n",
       "      <th>0</th>\n",
       "      <td>ABW</td>\n",
       "      <td>North America</td>\n",
       "      <td>Aruba</td>\n",
       "      <td>2020-03-13</td>\n",
       "      <td>2.0</td>\n",
       "      <td>2.0</td>\n",
       "      <td>NaN</td>\n",
       "      <td>0.0</td>\n",
       "      <td>0.0</td>\n",
       "      <td>NaN</td>\n",
       "      <td>...</td>\n",
       "      <td>35973.781</td>\n",
       "      <td>NaN</td>\n",
       "      <td>NaN</td>\n",
       "      <td>11.62</td>\n",
       "      <td>NaN</td>\n",
       "      <td>NaN</td>\n",
       "      <td>NaN</td>\n",
       "      <td>NaN</td>\n",
       "      <td>76.29</td>\n",
       "      <td>NaN</td>\n",
       "    </tr>\n",
       "    <tr>\n",
       "      <th>1</th>\n",
       "      <td>ABW</td>\n",
       "      <td>North America</td>\n",
       "      <td>Aruba</td>\n",
       "      <td>2020-03-19</td>\n",
       "      <td>NaN</td>\n",
       "      <td>NaN</td>\n",
       "      <td>0.286</td>\n",
       "      <td>NaN</td>\n",
       "      <td>NaN</td>\n",
       "      <td>0.0</td>\n",
       "      <td>...</td>\n",
       "      <td>35973.781</td>\n",
       "      <td>NaN</td>\n",
       "      <td>NaN</td>\n",
       "      <td>11.62</td>\n",
       "      <td>NaN</td>\n",
       "      <td>NaN</td>\n",
       "      <td>NaN</td>\n",
       "      <td>NaN</td>\n",
       "      <td>76.29</td>\n",
       "      <td>NaN</td>\n",
       "    </tr>\n",
       "    <tr>\n",
       "      <th>2</th>\n",
       "      <td>ABW</td>\n",
       "      <td>North America</td>\n",
       "      <td>Aruba</td>\n",
       "      <td>2020-03-20</td>\n",
       "      <td>4.0</td>\n",
       "      <td>2.0</td>\n",
       "      <td>0.286</td>\n",
       "      <td>0.0</td>\n",
       "      <td>0.0</td>\n",
       "      <td>0.0</td>\n",
       "      <td>...</td>\n",
       "      <td>35973.781</td>\n",
       "      <td>NaN</td>\n",
       "      <td>NaN</td>\n",
       "      <td>11.62</td>\n",
       "      <td>NaN</td>\n",
       "      <td>NaN</td>\n",
       "      <td>NaN</td>\n",
       "      <td>NaN</td>\n",
       "      <td>76.29</td>\n",
       "      <td>NaN</td>\n",
       "    </tr>\n",
       "    <tr>\n",
       "      <th>3</th>\n",
       "      <td>ABW</td>\n",
       "      <td>North America</td>\n",
       "      <td>Aruba</td>\n",
       "      <td>2020-03-21</td>\n",
       "      <td>NaN</td>\n",
       "      <td>NaN</td>\n",
       "      <td>0.286</td>\n",
       "      <td>NaN</td>\n",
       "      <td>NaN</td>\n",
       "      <td>0.0</td>\n",
       "      <td>...</td>\n",
       "      <td>35973.781</td>\n",
       "      <td>NaN</td>\n",
       "      <td>NaN</td>\n",
       "      <td>11.62</td>\n",
       "      <td>NaN</td>\n",
       "      <td>NaN</td>\n",
       "      <td>NaN</td>\n",
       "      <td>NaN</td>\n",
       "      <td>76.29</td>\n",
       "      <td>NaN</td>\n",
       "    </tr>\n",
       "    <tr>\n",
       "      <th>4</th>\n",
       "      <td>ABW</td>\n",
       "      <td>North America</td>\n",
       "      <td>Aruba</td>\n",
       "      <td>2020-03-22</td>\n",
       "      <td>NaN</td>\n",
       "      <td>NaN</td>\n",
       "      <td>0.286</td>\n",
       "      <td>NaN</td>\n",
       "      <td>NaN</td>\n",
       "      <td>0.0</td>\n",
       "      <td>...</td>\n",
       "      <td>35973.781</td>\n",
       "      <td>NaN</td>\n",
       "      <td>NaN</td>\n",
       "      <td>11.62</td>\n",
       "      <td>NaN</td>\n",
       "      <td>NaN</td>\n",
       "      <td>NaN</td>\n",
       "      <td>NaN</td>\n",
       "      <td>76.29</td>\n",
       "      <td>NaN</td>\n",
       "    </tr>\n",
       "  </tbody>\n",
       "</table>\n",
       "<p>5 rows × 41 columns</p>\n",
       "</div>"
      ],
      "text/plain": [
       "  iso_code      continent location        date  total_cases  new_cases  \\\n",
       "0      ABW  North America    Aruba  2020-03-13          2.0        2.0   \n",
       "1      ABW  North America    Aruba  2020-03-19          NaN        NaN   \n",
       "2      ABW  North America    Aruba  2020-03-20          4.0        2.0   \n",
       "3      ABW  North America    Aruba  2020-03-21          NaN        NaN   \n",
       "4      ABW  North America    Aruba  2020-03-22          NaN        NaN   \n",
       "\n",
       "   new_cases_smoothed  total_deaths  new_deaths  new_deaths_smoothed  ...  \\\n",
       "0                 NaN           0.0         0.0                  NaN  ...   \n",
       "1               0.286           NaN         NaN                  0.0  ...   \n",
       "2               0.286           0.0         0.0                  0.0  ...   \n",
       "3               0.286           NaN         NaN                  0.0  ...   \n",
       "4               0.286           NaN         NaN                  0.0  ...   \n",
       "\n",
       "   gdp_per_capita  extreme_poverty  cardiovasc_death_rate  \\\n",
       "0       35973.781              NaN                    NaN   \n",
       "1       35973.781              NaN                    NaN   \n",
       "2       35973.781              NaN                    NaN   \n",
       "3       35973.781              NaN                    NaN   \n",
       "4       35973.781              NaN                    NaN   \n",
       "\n",
       "   diabetes_prevalence  female_smokers  male_smokers  handwashing_facilities  \\\n",
       "0                11.62             NaN           NaN                     NaN   \n",
       "1                11.62             NaN           NaN                     NaN   \n",
       "2                11.62             NaN           NaN                     NaN   \n",
       "3                11.62             NaN           NaN                     NaN   \n",
       "4                11.62             NaN           NaN                     NaN   \n",
       "\n",
       "   hospital_beds_per_thousand  life_expectancy  human_development_index  \n",
       "0                         NaN            76.29                      NaN  \n",
       "1                         NaN            76.29                      NaN  \n",
       "2                         NaN            76.29                      NaN  \n",
       "3                         NaN            76.29                      NaN  \n",
       "4                         NaN            76.29                      NaN  \n",
       "\n",
       "[5 rows x 41 columns]"
      ]
     },
     "metadata": {},
     "output_type": "display_data"
    }
   ],
   "source": [
    "# importing necessary libraries\n",
    "import pandas as pd\n",
    "import seaborn as sb\n",
    "import matplotlib.pyplot as plt\n",
    "import numpy as np\n",
    "import geopandas as gpd\n",
    "from matplotlib.lines import Line2D\n",
    "from mpl_toolkits.axes_grid1 import make_axes_locatable\n",
    "import matplotlib.cm as cm\n",
    "\n",
    "# Setting the dark grid style\n",
    "sb.set(style=\"darkgrid\")\n",
    "\n",
    "# Setting DPI and default figure size\n",
    "plt.rcParams['figure.dpi']= 100\n",
    "plt.rcParams[\"figure.figsize\"] = [10, 4]\n",
    "\n",
    "# importing the dataset\n",
    "df = pd.read_csv('./data/owid-covid-data.csv')\n",
    "\n",
    "print(df.shape)\n",
    "display(df.head())"
   ]
  },
  {
   "cell_type": "markdown",
   "metadata": {
    "slideshow": {
     "slide_type": "skip"
    }
   },
   "source": [
    "<a id=\"id_3_1\"></a>\n",
    "> ### [So Far, So Good](#id_3_1)\n",
    ">Now we have `gathered` **manually** all the data we needed to reach [**Our Goal**](#id_1_4). So, let's proceed to [**Assessing Data**](#id_4) phase.\n",
    ">- [x] Gathering\n",
    ">- [ ] Assessing\n",
    ">- [ ] Cleaning\n",
    ">- [ ] Storing\n",
    ">- [ ] Analyzing\n",
    ">- [ ] Visualizing\n",
    ">- [ ] Reporting\n",
    "> \n",
    "> [Back to Gathering Data](#id_3)"
   ]
  },
  {
   "cell_type": "markdown",
   "metadata": {
    "slideshow": {
     "slide_type": "skip"
    }
   },
   "source": [
    "<a id=\"id_4\"></a>\n",
    "<h1 style=\"font-size:30px; color:#3A71AE\">Assessing Data</h1>\n",
    "\n",
    "Then let's start Assessing our data. We are going to inspect our dataset for two things, [**Data Quality Issues**](#id_4_3_1) (i.e. content issues) and [**Lack of Tidiness**](#id_4_3_2) (i.e. structural issues), through two steps: **detecting** and **documentation**, by using two types of assessments:\n",
    "1. [**Visual Assessment**](#id_4_1)\n",
    "2. [**Programmatic Assessment**](#id_4_2)\n",
    "\n",
    "And finally, we will document the existing issues in [**Assessment Docummentions**](#id_4_3).\n",
    "\n",
    "[Back to Top](#top)"
   ]
  },
  {
   "cell_type": "markdown",
   "metadata": {
    "slideshow": {
     "slide_type": "skip"
    }
   },
   "source": [
    "<a id=\"id_4_1\"></a>\n",
    "## [Visual Assessment](#id_4_1)\n",
    "\n",
    "Let's `detect` some quality or tideness issues in our dataset **visually**. Then `document` it in [**Assessment Docummentions**](id_4_3)\n",
    "\n",
    "[Back to Assessing Data](#id_4)"
   ]
  },
  {
   "cell_type": "code",
   "execution_count": 2,
   "metadata": {
    "slideshow": {
     "slide_type": "skip"
    }
   },
   "outputs": [
    {
     "data": {
      "text/html": [
       "<div>\n",
       "<style scoped>\n",
       "    .dataframe tbody tr th:only-of-type {\n",
       "        vertical-align: middle;\n",
       "    }\n",
       "\n",
       "    .dataframe tbody tr th {\n",
       "        vertical-align: top;\n",
       "    }\n",
       "\n",
       "    .dataframe thead th {\n",
       "        text-align: right;\n",
       "    }\n",
       "</style>\n",
       "<table border=\"1\" class=\"dataframe\">\n",
       "  <thead>\n",
       "    <tr style=\"text-align: right;\">\n",
       "      <th></th>\n",
       "      <th>iso_code</th>\n",
       "      <th>continent</th>\n",
       "      <th>location</th>\n",
       "      <th>date</th>\n",
       "      <th>total_cases</th>\n",
       "      <th>new_cases</th>\n",
       "      <th>new_cases_smoothed</th>\n",
       "      <th>total_deaths</th>\n",
       "      <th>new_deaths</th>\n",
       "      <th>new_deaths_smoothed</th>\n",
       "      <th>...</th>\n",
       "      <th>gdp_per_capita</th>\n",
       "      <th>extreme_poverty</th>\n",
       "      <th>cardiovasc_death_rate</th>\n",
       "      <th>diabetes_prevalence</th>\n",
       "      <th>female_smokers</th>\n",
       "      <th>male_smokers</th>\n",
       "      <th>handwashing_facilities</th>\n",
       "      <th>hospital_beds_per_thousand</th>\n",
       "      <th>life_expectancy</th>\n",
       "      <th>human_development_index</th>\n",
       "    </tr>\n",
       "  </thead>\n",
       "  <tbody>\n",
       "    <tr>\n",
       "      <th>0</th>\n",
       "      <td>ABW</td>\n",
       "      <td>North America</td>\n",
       "      <td>Aruba</td>\n",
       "      <td>2020-03-13</td>\n",
       "      <td>2.0</td>\n",
       "      <td>2.0</td>\n",
       "      <td>NaN</td>\n",
       "      <td>0.0</td>\n",
       "      <td>0.0</td>\n",
       "      <td>NaN</td>\n",
       "      <td>...</td>\n",
       "      <td>35973.781</td>\n",
       "      <td>NaN</td>\n",
       "      <td>NaN</td>\n",
       "      <td>11.62</td>\n",
       "      <td>NaN</td>\n",
       "      <td>NaN</td>\n",
       "      <td>NaN</td>\n",
       "      <td>NaN</td>\n",
       "      <td>76.29</td>\n",
       "      <td>NaN</td>\n",
       "    </tr>\n",
       "    <tr>\n",
       "      <th>1</th>\n",
       "      <td>ABW</td>\n",
       "      <td>North America</td>\n",
       "      <td>Aruba</td>\n",
       "      <td>2020-03-19</td>\n",
       "      <td>NaN</td>\n",
       "      <td>NaN</td>\n",
       "      <td>0.286</td>\n",
       "      <td>NaN</td>\n",
       "      <td>NaN</td>\n",
       "      <td>0.0</td>\n",
       "      <td>...</td>\n",
       "      <td>35973.781</td>\n",
       "      <td>NaN</td>\n",
       "      <td>NaN</td>\n",
       "      <td>11.62</td>\n",
       "      <td>NaN</td>\n",
       "      <td>NaN</td>\n",
       "      <td>NaN</td>\n",
       "      <td>NaN</td>\n",
       "      <td>76.29</td>\n",
       "      <td>NaN</td>\n",
       "    </tr>\n",
       "    <tr>\n",
       "      <th>2</th>\n",
       "      <td>ABW</td>\n",
       "      <td>North America</td>\n",
       "      <td>Aruba</td>\n",
       "      <td>2020-03-20</td>\n",
       "      <td>4.0</td>\n",
       "      <td>2.0</td>\n",
       "      <td>0.286</td>\n",
       "      <td>0.0</td>\n",
       "      <td>0.0</td>\n",
       "      <td>0.0</td>\n",
       "      <td>...</td>\n",
       "      <td>35973.781</td>\n",
       "      <td>NaN</td>\n",
       "      <td>NaN</td>\n",
       "      <td>11.62</td>\n",
       "      <td>NaN</td>\n",
       "      <td>NaN</td>\n",
       "      <td>NaN</td>\n",
       "      <td>NaN</td>\n",
       "      <td>76.29</td>\n",
       "      <td>NaN</td>\n",
       "    </tr>\n",
       "    <tr>\n",
       "      <th>3</th>\n",
       "      <td>ABW</td>\n",
       "      <td>North America</td>\n",
       "      <td>Aruba</td>\n",
       "      <td>2020-03-21</td>\n",
       "      <td>NaN</td>\n",
       "      <td>NaN</td>\n",
       "      <td>0.286</td>\n",
       "      <td>NaN</td>\n",
       "      <td>NaN</td>\n",
       "      <td>0.0</td>\n",
       "      <td>...</td>\n",
       "      <td>35973.781</td>\n",
       "      <td>NaN</td>\n",
       "      <td>NaN</td>\n",
       "      <td>11.62</td>\n",
       "      <td>NaN</td>\n",
       "      <td>NaN</td>\n",
       "      <td>NaN</td>\n",
       "      <td>NaN</td>\n",
       "      <td>76.29</td>\n",
       "      <td>NaN</td>\n",
       "    </tr>\n",
       "    <tr>\n",
       "      <th>4</th>\n",
       "      <td>ABW</td>\n",
       "      <td>North America</td>\n",
       "      <td>Aruba</td>\n",
       "      <td>2020-03-22</td>\n",
       "      <td>NaN</td>\n",
       "      <td>NaN</td>\n",
       "      <td>0.286</td>\n",
       "      <td>NaN</td>\n",
       "      <td>NaN</td>\n",
       "      <td>0.0</td>\n",
       "      <td>...</td>\n",
       "      <td>35973.781</td>\n",
       "      <td>NaN</td>\n",
       "      <td>NaN</td>\n",
       "      <td>11.62</td>\n",
       "      <td>NaN</td>\n",
       "      <td>NaN</td>\n",
       "      <td>NaN</td>\n",
       "      <td>NaN</td>\n",
       "      <td>76.29</td>\n",
       "      <td>NaN</td>\n",
       "    </tr>\n",
       "    <tr>\n",
       "      <th>...</th>\n",
       "      <td>...</td>\n",
       "      <td>...</td>\n",
       "      <td>...</td>\n",
       "      <td>...</td>\n",
       "      <td>...</td>\n",
       "      <td>...</td>\n",
       "      <td>...</td>\n",
       "      <td>...</td>\n",
       "      <td>...</td>\n",
       "      <td>...</td>\n",
       "      <td>...</td>\n",
       "      <td>...</td>\n",
       "      <td>...</td>\n",
       "      <td>...</td>\n",
       "      <td>...</td>\n",
       "      <td>...</td>\n",
       "      <td>...</td>\n",
       "      <td>...</td>\n",
       "      <td>...</td>\n",
       "      <td>...</td>\n",
       "      <td>...</td>\n",
       "    </tr>\n",
       "    <tr>\n",
       "      <th>45202</th>\n",
       "      <td>NaN</td>\n",
       "      <td>NaN</td>\n",
       "      <td>International</td>\n",
       "      <td>2020-09-17</td>\n",
       "      <td>696.0</td>\n",
       "      <td>NaN</td>\n",
       "      <td>NaN</td>\n",
       "      <td>7.0</td>\n",
       "      <td>NaN</td>\n",
       "      <td>NaN</td>\n",
       "      <td>...</td>\n",
       "      <td>NaN</td>\n",
       "      <td>NaN</td>\n",
       "      <td>NaN</td>\n",
       "      <td>NaN</td>\n",
       "      <td>NaN</td>\n",
       "      <td>NaN</td>\n",
       "      <td>NaN</td>\n",
       "      <td>NaN</td>\n",
       "      <td>NaN</td>\n",
       "      <td>NaN</td>\n",
       "    </tr>\n",
       "    <tr>\n",
       "      <th>45203</th>\n",
       "      <td>NaN</td>\n",
       "      <td>NaN</td>\n",
       "      <td>International</td>\n",
       "      <td>2020-09-18</td>\n",
       "      <td>696.0</td>\n",
       "      <td>NaN</td>\n",
       "      <td>NaN</td>\n",
       "      <td>7.0</td>\n",
       "      <td>NaN</td>\n",
       "      <td>NaN</td>\n",
       "      <td>...</td>\n",
       "      <td>NaN</td>\n",
       "      <td>NaN</td>\n",
       "      <td>NaN</td>\n",
       "      <td>NaN</td>\n",
       "      <td>NaN</td>\n",
       "      <td>NaN</td>\n",
       "      <td>NaN</td>\n",
       "      <td>NaN</td>\n",
       "      <td>NaN</td>\n",
       "      <td>NaN</td>\n",
       "    </tr>\n",
       "    <tr>\n",
       "      <th>45204</th>\n",
       "      <td>NaN</td>\n",
       "      <td>NaN</td>\n",
       "      <td>International</td>\n",
       "      <td>2020-09-19</td>\n",
       "      <td>696.0</td>\n",
       "      <td>NaN</td>\n",
       "      <td>NaN</td>\n",
       "      <td>7.0</td>\n",
       "      <td>NaN</td>\n",
       "      <td>NaN</td>\n",
       "      <td>...</td>\n",
       "      <td>NaN</td>\n",
       "      <td>NaN</td>\n",
       "      <td>NaN</td>\n",
       "      <td>NaN</td>\n",
       "      <td>NaN</td>\n",
       "      <td>NaN</td>\n",
       "      <td>NaN</td>\n",
       "      <td>NaN</td>\n",
       "      <td>NaN</td>\n",
       "      <td>NaN</td>\n",
       "    </tr>\n",
       "    <tr>\n",
       "      <th>45205</th>\n",
       "      <td>NaN</td>\n",
       "      <td>NaN</td>\n",
       "      <td>International</td>\n",
       "      <td>2020-09-20</td>\n",
       "      <td>696.0</td>\n",
       "      <td>NaN</td>\n",
       "      <td>NaN</td>\n",
       "      <td>7.0</td>\n",
       "      <td>NaN</td>\n",
       "      <td>NaN</td>\n",
       "      <td>...</td>\n",
       "      <td>NaN</td>\n",
       "      <td>NaN</td>\n",
       "      <td>NaN</td>\n",
       "      <td>NaN</td>\n",
       "      <td>NaN</td>\n",
       "      <td>NaN</td>\n",
       "      <td>NaN</td>\n",
       "      <td>NaN</td>\n",
       "      <td>NaN</td>\n",
       "      <td>NaN</td>\n",
       "    </tr>\n",
       "    <tr>\n",
       "      <th>45206</th>\n",
       "      <td>NaN</td>\n",
       "      <td>NaN</td>\n",
       "      <td>International</td>\n",
       "      <td>2020-09-21</td>\n",
       "      <td>696.0</td>\n",
       "      <td>NaN</td>\n",
       "      <td>NaN</td>\n",
       "      <td>7.0</td>\n",
       "      <td>NaN</td>\n",
       "      <td>NaN</td>\n",
       "      <td>...</td>\n",
       "      <td>NaN</td>\n",
       "      <td>NaN</td>\n",
       "      <td>NaN</td>\n",
       "      <td>NaN</td>\n",
       "      <td>NaN</td>\n",
       "      <td>NaN</td>\n",
       "      <td>NaN</td>\n",
       "      <td>NaN</td>\n",
       "      <td>NaN</td>\n",
       "      <td>NaN</td>\n",
       "    </tr>\n",
       "  </tbody>\n",
       "</table>\n",
       "<p>45207 rows × 41 columns</p>\n",
       "</div>"
      ],
      "text/plain": [
       "      iso_code      continent       location        date  total_cases  \\\n",
       "0          ABW  North America          Aruba  2020-03-13          2.0   \n",
       "1          ABW  North America          Aruba  2020-03-19          NaN   \n",
       "2          ABW  North America          Aruba  2020-03-20          4.0   \n",
       "3          ABW  North America          Aruba  2020-03-21          NaN   \n",
       "4          ABW  North America          Aruba  2020-03-22          NaN   \n",
       "...        ...            ...            ...         ...          ...   \n",
       "45202      NaN            NaN  International  2020-09-17        696.0   \n",
       "45203      NaN            NaN  International  2020-09-18        696.0   \n",
       "45204      NaN            NaN  International  2020-09-19        696.0   \n",
       "45205      NaN            NaN  International  2020-09-20        696.0   \n",
       "45206      NaN            NaN  International  2020-09-21        696.0   \n",
       "\n",
       "       new_cases  new_cases_smoothed  total_deaths  new_deaths  \\\n",
       "0            2.0                 NaN           0.0         0.0   \n",
       "1            NaN               0.286           NaN         NaN   \n",
       "2            2.0               0.286           0.0         0.0   \n",
       "3            NaN               0.286           NaN         NaN   \n",
       "4            NaN               0.286           NaN         NaN   \n",
       "...          ...                 ...           ...         ...   \n",
       "45202        NaN                 NaN           7.0         NaN   \n",
       "45203        NaN                 NaN           7.0         NaN   \n",
       "45204        NaN                 NaN           7.0         NaN   \n",
       "45205        NaN                 NaN           7.0         NaN   \n",
       "45206        NaN                 NaN           7.0         NaN   \n",
       "\n",
       "       new_deaths_smoothed  ...  gdp_per_capita  extreme_poverty  \\\n",
       "0                      NaN  ...       35973.781              NaN   \n",
       "1                      0.0  ...       35973.781              NaN   \n",
       "2                      0.0  ...       35973.781              NaN   \n",
       "3                      0.0  ...       35973.781              NaN   \n",
       "4                      0.0  ...       35973.781              NaN   \n",
       "...                    ...  ...             ...              ...   \n",
       "45202                  NaN  ...             NaN              NaN   \n",
       "45203                  NaN  ...             NaN              NaN   \n",
       "45204                  NaN  ...             NaN              NaN   \n",
       "45205                  NaN  ...             NaN              NaN   \n",
       "45206                  NaN  ...             NaN              NaN   \n",
       "\n",
       "       cardiovasc_death_rate  diabetes_prevalence  female_smokers  \\\n",
       "0                        NaN                11.62             NaN   \n",
       "1                        NaN                11.62             NaN   \n",
       "2                        NaN                11.62             NaN   \n",
       "3                        NaN                11.62             NaN   \n",
       "4                        NaN                11.62             NaN   \n",
       "...                      ...                  ...             ...   \n",
       "45202                    NaN                  NaN             NaN   \n",
       "45203                    NaN                  NaN             NaN   \n",
       "45204                    NaN                  NaN             NaN   \n",
       "45205                    NaN                  NaN             NaN   \n",
       "45206                    NaN                  NaN             NaN   \n",
       "\n",
       "       male_smokers  handwashing_facilities  hospital_beds_per_thousand  \\\n",
       "0               NaN                     NaN                         NaN   \n",
       "1               NaN                     NaN                         NaN   \n",
       "2               NaN                     NaN                         NaN   \n",
       "3               NaN                     NaN                         NaN   \n",
       "4               NaN                     NaN                         NaN   \n",
       "...             ...                     ...                         ...   \n",
       "45202           NaN                     NaN                         NaN   \n",
       "45203           NaN                     NaN                         NaN   \n",
       "45204           NaN                     NaN                         NaN   \n",
       "45205           NaN                     NaN                         NaN   \n",
       "45206           NaN                     NaN                         NaN   \n",
       "\n",
       "       life_expectancy  human_development_index  \n",
       "0                76.29                      NaN  \n",
       "1                76.29                      NaN  \n",
       "2                76.29                      NaN  \n",
       "3                76.29                      NaN  \n",
       "4                76.29                      NaN  \n",
       "...                ...                      ...  \n",
       "45202              NaN                      NaN  \n",
       "45203              NaN                      NaN  \n",
       "45204              NaN                      NaN  \n",
       "45205              NaN                      NaN  \n",
       "45206              NaN                      NaN  \n",
       "\n",
       "[45207 rows x 41 columns]"
      ]
     },
     "execution_count": 2,
     "metadata": {},
     "output_type": "execute_result"
    }
   ],
   "source": [
    "# Assessing 'df' visually.\n",
    "df"
   ]
  },
  {
   "cell_type": "markdown",
   "metadata": {
    "slideshow": {
     "slide_type": "skip"
    }
   },
   "source": [
    "> **Note:** There are a lot of `NaN` values, but I think this normal due to the nature of the data."
   ]
  },
  {
   "cell_type": "markdown",
   "metadata": {
    "slideshow": {
     "slide_type": "skip"
    }
   },
   "source": [
    "<a id=\"id_4_2\"></a>\n",
    "# [Programmatic Assessment](#id_4_2)\n",
    "**Programmatic assessment** is simply means using code to do anything other than looking to the dataset in its **`entirety`**. It tends to be more efficient than visual assessment. \n",
    "\n",
    "This types of assessments are handy for gauging data’s structure and also for quickly spotting things that we’ll need to clean.\n",
    "\n",
    "**Note:** As We did in [Visually Assessment](#id_4_3_2), we'll start with `detecting` data issues, then, `documenting` these issues in [Assessment Docummentions](#id_4_3).\n",
    "\n",
    "We are going to use [Pandas API](https://pandas.pydata.org/docs/reference/index.html) functions and methods in order to programmatically assess the datasets, e.g. [sample](https://pandas.pydata.org/docs/reference/api/pandas.DataFrame.sample.html?highlight=sample#pandas.DataFrame.sample), [value_counts](https://pandas.pydata.org/docs/reference/api/pandas.Series.value_counts.html?highlight=value_counts#pandas.Series.value_counts), [info](https://pandas.pydata.org/docs/reference/api/pandas.DataFrame.info.html?highlight=info#pandas.DataFrame.info), [dtypes](https://pandas.pydata.org/docs/reference/api/pandas.DataFrame.dtypes.html?highlight=dtypes#pandas.DataFrame.dtypes), [describe](https://pandas.pydata.org/docs/reference/api/pandas.DataFrame.describe.html?highlight=describe#pandas.DataFrame.describe), [Series.isnull](https://pandas.pydata.org/docs/reference/api/pandas.Series.isnull.html?highlight=isnull#pandas.Series.isnull) and [notnull](https://pandas.pydata.org/docs/reference/api/pandas.Series.notnull.html?highlight=notnull#pandas.Series.notnull)\n",
    "\n",
    "[Back to Assessing Data](#id_4)"
   ]
  },
  {
   "cell_type": "markdown",
   "metadata": {
    "slideshow": {
     "slide_type": "skip"
    }
   },
   "source": [
    "## Dataset Random Sample\n",
    "\n",
    "[Back to Programmatic Assessment](#id_4_2)"
   ]
  },
  {
   "cell_type": "code",
   "execution_count": 3,
   "metadata": {
    "scrolled": false,
    "slideshow": {
     "slide_type": "skip"
    }
   },
   "outputs": [
    {
     "data": {
      "text/html": [
       "<div>\n",
       "<style scoped>\n",
       "    .dataframe tbody tr th:only-of-type {\n",
       "        vertical-align: middle;\n",
       "    }\n",
       "\n",
       "    .dataframe tbody tr th {\n",
       "        vertical-align: top;\n",
       "    }\n",
       "\n",
       "    .dataframe thead th {\n",
       "        text-align: right;\n",
       "    }\n",
       "</style>\n",
       "<table border=\"1\" class=\"dataframe\">\n",
       "  <thead>\n",
       "    <tr style=\"text-align: right;\">\n",
       "      <th></th>\n",
       "      <th>iso_code</th>\n",
       "      <th>continent</th>\n",
       "      <th>location</th>\n",
       "      <th>date</th>\n",
       "      <th>total_cases</th>\n",
       "      <th>new_cases</th>\n",
       "      <th>new_cases_smoothed</th>\n",
       "      <th>total_deaths</th>\n",
       "      <th>new_deaths</th>\n",
       "      <th>new_deaths_smoothed</th>\n",
       "      <th>...</th>\n",
       "      <th>gdp_per_capita</th>\n",
       "      <th>extreme_poverty</th>\n",
       "      <th>cardiovasc_death_rate</th>\n",
       "      <th>diabetes_prevalence</th>\n",
       "      <th>female_smokers</th>\n",
       "      <th>male_smokers</th>\n",
       "      <th>handwashing_facilities</th>\n",
       "      <th>hospital_beds_per_thousand</th>\n",
       "      <th>life_expectancy</th>\n",
       "      <th>human_development_index</th>\n",
       "    </tr>\n",
       "  </thead>\n",
       "  <tbody>\n",
       "    <tr>\n",
       "      <th>43026</th>\n",
       "      <td>VEN</td>\n",
       "      <td>South America</td>\n",
       "      <td>Venezuela</td>\n",
       "      <td>2020-07-19</td>\n",
       "      <td>11483.0</td>\n",
       "      <td>292.0</td>\n",
       "      <td>329.286</td>\n",
       "      <td>110.0</td>\n",
       "      <td>3.0</td>\n",
       "      <td>3.571</td>\n",
       "      <td>...</td>\n",
       "      <td>16745.022</td>\n",
       "      <td>NaN</td>\n",
       "      <td>204.850</td>\n",
       "      <td>6.47</td>\n",
       "      <td>NaN</td>\n",
       "      <td>NaN</td>\n",
       "      <td>NaN</td>\n",
       "      <td>0.80</td>\n",
       "      <td>72.06</td>\n",
       "      <td>0.761</td>\n",
       "    </tr>\n",
       "    <tr>\n",
       "      <th>18767</th>\n",
       "      <td>HUN</td>\n",
       "      <td>Europe</td>\n",
       "      <td>Hungary</td>\n",
       "      <td>2020-08-05</td>\n",
       "      <td>4553.0</td>\n",
       "      <td>9.0</td>\n",
       "      <td>12.571</td>\n",
       "      <td>598.0</td>\n",
       "      <td>1.0</td>\n",
       "      <td>0.286</td>\n",
       "      <td>...</td>\n",
       "      <td>26777.561</td>\n",
       "      <td>0.5</td>\n",
       "      <td>278.296</td>\n",
       "      <td>7.55</td>\n",
       "      <td>26.8</td>\n",
       "      <td>34.8</td>\n",
       "      <td>NaN</td>\n",
       "      <td>7.02</td>\n",
       "      <td>76.88</td>\n",
       "      <td>0.838</td>\n",
       "    </tr>\n",
       "    <tr>\n",
       "      <th>21284</th>\n",
       "      <td>JAM</td>\n",
       "      <td>North America</td>\n",
       "      <td>Jamaica</td>\n",
       "      <td>2020-08-16</td>\n",
       "      <td>1082.0</td>\n",
       "      <td>0.0</td>\n",
       "      <td>11.286</td>\n",
       "      <td>14.0</td>\n",
       "      <td>0.0</td>\n",
       "      <td>0.143</td>\n",
       "      <td>...</td>\n",
       "      <td>8193.571</td>\n",
       "      <td>NaN</td>\n",
       "      <td>206.537</td>\n",
       "      <td>11.28</td>\n",
       "      <td>5.3</td>\n",
       "      <td>28.6</td>\n",
       "      <td>66.425</td>\n",
       "      <td>1.70</td>\n",
       "      <td>74.47</td>\n",
       "      <td>0.732</td>\n",
       "    </tr>\n",
       "    <tr>\n",
       "      <th>38901</th>\n",
       "      <td>SXM</td>\n",
       "      <td>North America</td>\n",
       "      <td>Sint Maarten (Dutch part)</td>\n",
       "      <td>2020-09-08</td>\n",
       "      <td>516.0</td>\n",
       "      <td>5.0</td>\n",
       "      <td>5.714</td>\n",
       "      <td>19.0</td>\n",
       "      <td>0.0</td>\n",
       "      <td>0.286</td>\n",
       "      <td>...</td>\n",
       "      <td>36327.232</td>\n",
       "      <td>NaN</td>\n",
       "      <td>NaN</td>\n",
       "      <td>NaN</td>\n",
       "      <td>NaN</td>\n",
       "      <td>NaN</td>\n",
       "      <td>NaN</td>\n",
       "      <td>NaN</td>\n",
       "      <td>78.95</td>\n",
       "      <td>NaN</td>\n",
       "    </tr>\n",
       "    <tr>\n",
       "      <th>18365</th>\n",
       "      <td>HRV</td>\n",
       "      <td>Europe</td>\n",
       "      <td>Croatia</td>\n",
       "      <td>2020-07-22</td>\n",
       "      <td>4422.0</td>\n",
       "      <td>52.0</td>\n",
       "      <td>85.000</td>\n",
       "      <td>122.0</td>\n",
       "      <td>0.0</td>\n",
       "      <td>0.429</td>\n",
       "      <td>...</td>\n",
       "      <td>22669.797</td>\n",
       "      <td>0.7</td>\n",
       "      <td>253.782</td>\n",
       "      <td>5.59</td>\n",
       "      <td>34.3</td>\n",
       "      <td>39.9</td>\n",
       "      <td>NaN</td>\n",
       "      <td>5.54</td>\n",
       "      <td>78.49</td>\n",
       "      <td>0.831</td>\n",
       "    </tr>\n",
       "  </tbody>\n",
       "</table>\n",
       "<p>5 rows × 41 columns</p>\n",
       "</div>"
      ],
      "text/plain": [
       "      iso_code      continent                   location        date  \\\n",
       "43026      VEN  South America                  Venezuela  2020-07-19   \n",
       "18767      HUN         Europe                    Hungary  2020-08-05   \n",
       "21284      JAM  North America                    Jamaica  2020-08-16   \n",
       "38901      SXM  North America  Sint Maarten (Dutch part)  2020-09-08   \n",
       "18365      HRV         Europe                    Croatia  2020-07-22   \n",
       "\n",
       "       total_cases  new_cases  new_cases_smoothed  total_deaths  new_deaths  \\\n",
       "43026      11483.0      292.0             329.286         110.0         3.0   \n",
       "18767       4553.0        9.0              12.571         598.0         1.0   \n",
       "21284       1082.0        0.0              11.286          14.0         0.0   \n",
       "38901        516.0        5.0               5.714          19.0         0.0   \n",
       "18365       4422.0       52.0              85.000         122.0         0.0   \n",
       "\n",
       "       new_deaths_smoothed  ...  gdp_per_capita  extreme_poverty  \\\n",
       "43026                3.571  ...       16745.022              NaN   \n",
       "18767                0.286  ...       26777.561              0.5   \n",
       "21284                0.143  ...        8193.571              NaN   \n",
       "38901                0.286  ...       36327.232              NaN   \n",
       "18365                0.429  ...       22669.797              0.7   \n",
       "\n",
       "       cardiovasc_death_rate  diabetes_prevalence  female_smokers  \\\n",
       "43026                204.850                 6.47             NaN   \n",
       "18767                278.296                 7.55            26.8   \n",
       "21284                206.537                11.28             5.3   \n",
       "38901                    NaN                  NaN             NaN   \n",
       "18365                253.782                 5.59            34.3   \n",
       "\n",
       "       male_smokers  handwashing_facilities  hospital_beds_per_thousand  \\\n",
       "43026           NaN                     NaN                        0.80   \n",
       "18767          34.8                     NaN                        7.02   \n",
       "21284          28.6                  66.425                        1.70   \n",
       "38901           NaN                     NaN                         NaN   \n",
       "18365          39.9                     NaN                        5.54   \n",
       "\n",
       "       life_expectancy  human_development_index  \n",
       "43026            72.06                    0.761  \n",
       "18767            76.88                    0.838  \n",
       "21284            74.47                    0.732  \n",
       "38901            78.95                      NaN  \n",
       "18365            78.49                    0.831  \n",
       "\n",
       "[5 rows x 41 columns]"
      ]
     },
     "execution_count": 3,
     "metadata": {},
     "output_type": "execute_result"
    }
   ],
   "source": [
    "np.random.seed(1)\n",
    "df.sample(5)"
   ]
  },
  {
   "cell_type": "markdown",
   "metadata": {
    "slideshow": {
     "slide_type": "skip"
    }
   },
   "source": [
    "## Dataset Overall Information\n",
    "\n",
    "[Back to Programmatic Assessment](#id_4_2)"
   ]
  },
  {
   "cell_type": "code",
   "execution_count": 4,
   "metadata": {
    "scrolled": true,
    "slideshow": {
     "slide_type": "skip"
    }
   },
   "outputs": [
    {
     "name": "stdout",
     "output_type": "stream",
     "text": [
      "<class 'pandas.core.frame.DataFrame'>\n",
      "RangeIndex: 45207 entries, 0 to 45206\n",
      "Data columns (total 41 columns):\n",
      " #   Column                           Non-Null Count  Dtype  \n",
      "---  ------                           --------------  -----  \n",
      " 0   iso_code                         44941 non-null  object \n",
      " 1   continent                        44675 non-null  object \n",
      " 2   location                         45207 non-null  object \n",
      " 3   date                             45207 non-null  object \n",
      " 4   total_cases                      44604 non-null  float64\n",
      " 5   new_cases                        44402 non-null  float64\n",
      " 6   new_cases_smoothed               43620 non-null  float64\n",
      " 7   total_deaths                     44604 non-null  float64\n",
      " 8   new_deaths                       44402 non-null  float64\n",
      " 9   new_deaths_smoothed              43620 non-null  float64\n",
      " 10  total_cases_per_million          44338 non-null  float64\n",
      " 11  new_cases_per_million            44338 non-null  float64\n",
      " 12  new_cases_smoothed_per_million   43555 non-null  float64\n",
      " 13  total_deaths_per_million         44338 non-null  float64\n",
      " 14  new_deaths_per_million           44338 non-null  float64\n",
      " 15  new_deaths_smoothed_per_million  43555 non-null  float64\n",
      " 16  new_tests                        15810 non-null  float64\n",
      " 17  total_tests                      16195 non-null  float64\n",
      " 18  total_tests_per_thousand         16195 non-null  float64\n",
      " 19  new_tests_per_thousand           15810 non-null  float64\n",
      " 20  new_tests_smoothed               17769 non-null  float64\n",
      " 21  new_tests_smoothed_per_thousand  17769 non-null  float64\n",
      " 22  tests_per_case                   16332 non-null  float64\n",
      " 23  positive_rate                    16716 non-null  float64\n",
      " 24  tests_units                      18575 non-null  object \n",
      " 25  stringency_index                 37186 non-null  float64\n",
      " 26  population                       44941 non-null  float64\n",
      " 27  population_density               42900 non-null  float64\n",
      " 28  median_age                       40324 non-null  float64\n",
      " 29  aged_65_older                    39726 non-null  float64\n",
      " 30  aged_70_older                    40115 non-null  float64\n",
      " 31  gdp_per_capita                   39808 non-null  float64\n",
      " 32  extreme_poverty                  26566 non-null  float64\n",
      " 33  cardiovasc_death_rate            40339 non-null  float64\n",
      " 34  diabetes_prevalence              41752 non-null  float64\n",
      " 35  female_smokers                   31640 non-null  float64\n",
      " 36  male_smokers                     31241 non-null  float64\n",
      " 37  handwashing_facilities           18842 non-null  float64\n",
      " 38  hospital_beds_per_thousand       36469 non-null  float64\n",
      " 39  life_expectancy                  44377 non-null  float64\n",
      " 40  human_development_index          38916 non-null  float64\n",
      "dtypes: float64(36), object(5)\n",
      "memory usage: 14.1+ MB\n"
     ]
    }
   ],
   "source": [
    "df.info()"
   ]
  },
  {
   "cell_type": "markdown",
   "metadata": {
    "slideshow": {
     "slide_type": "skip"
    }
   },
   "source": [
    "> **Notes:** \n",
    "> - Variable `date` is object data type not datetime\n",
    "> - Missing values in `iso_code` and `continent` variables (need further investigation).\n",
    "> - Variable `iso_code` and `tests_units` names.\n",
    "> - The rest of missing values I think as I said before due to the nature of the dataset.\n",
    "> - The dataset contains `multi-observational units` that have to be divided into multi-tables to a get the **tidy** data that we can easily analysis.\n",
    "> - `continent` and `tests_units` can be categorical data type.\n",
    "> \n",
    "> Let's document this out in [Assessment Docummentions](#id_4_3) section."
   ]
  },
  {
   "cell_type": "markdown",
   "metadata": {
    "slideshow": {
     "slide_type": "skip"
    }
   },
   "source": [
    "## Iso Code  Missing Values\n",
    "\n",
    "[Back to Programmatic Assessment](#id_4_2)"
   ]
  },
  {
   "cell_type": "code",
   "execution_count": 5,
   "metadata": {
    "scrolled": false,
    "slideshow": {
     "slide_type": "skip"
    }
   },
   "outputs": [
    {
     "data": {
      "text/html": [
       "<div>\n",
       "<style scoped>\n",
       "    .dataframe tbody tr th:only-of-type {\n",
       "        vertical-align: middle;\n",
       "    }\n",
       "\n",
       "    .dataframe tbody tr th {\n",
       "        vertical-align: top;\n",
       "    }\n",
       "\n",
       "    .dataframe thead th {\n",
       "        text-align: right;\n",
       "    }\n",
       "</style>\n",
       "<table border=\"1\" class=\"dataframe\">\n",
       "  <thead>\n",
       "    <tr style=\"text-align: right;\">\n",
       "      <th></th>\n",
       "      <th>iso_code</th>\n",
       "      <th>continent</th>\n",
       "      <th>location</th>\n",
       "      <th>date</th>\n",
       "      <th>total_cases</th>\n",
       "      <th>new_cases</th>\n",
       "      <th>new_cases_smoothed</th>\n",
       "      <th>total_deaths</th>\n",
       "      <th>new_deaths</th>\n",
       "      <th>new_deaths_smoothed</th>\n",
       "      <th>...</th>\n",
       "      <th>gdp_per_capita</th>\n",
       "      <th>extreme_poverty</th>\n",
       "      <th>cardiovasc_death_rate</th>\n",
       "      <th>diabetes_prevalence</th>\n",
       "      <th>female_smokers</th>\n",
       "      <th>male_smokers</th>\n",
       "      <th>handwashing_facilities</th>\n",
       "      <th>hospital_beds_per_thousand</th>\n",
       "      <th>life_expectancy</th>\n",
       "      <th>human_development_index</th>\n",
       "    </tr>\n",
       "  </thead>\n",
       "  <tbody>\n",
       "    <tr>\n",
       "      <th>44941</th>\n",
       "      <td>NaN</td>\n",
       "      <td>NaN</td>\n",
       "      <td>International</td>\n",
       "      <td>2019-12-31</td>\n",
       "      <td>0.0</td>\n",
       "      <td>0.0</td>\n",
       "      <td>NaN</td>\n",
       "      <td>0.0</td>\n",
       "      <td>0.0</td>\n",
       "      <td>NaN</td>\n",
       "      <td>...</td>\n",
       "      <td>NaN</td>\n",
       "      <td>NaN</td>\n",
       "      <td>NaN</td>\n",
       "      <td>NaN</td>\n",
       "      <td>NaN</td>\n",
       "      <td>NaN</td>\n",
       "      <td>NaN</td>\n",
       "      <td>NaN</td>\n",
       "      <td>NaN</td>\n",
       "      <td>NaN</td>\n",
       "    </tr>\n",
       "    <tr>\n",
       "      <th>44942</th>\n",
       "      <td>NaN</td>\n",
       "      <td>NaN</td>\n",
       "      <td>International</td>\n",
       "      <td>2020-01-01</td>\n",
       "      <td>0.0</td>\n",
       "      <td>0.0</td>\n",
       "      <td>NaN</td>\n",
       "      <td>0.0</td>\n",
       "      <td>0.0</td>\n",
       "      <td>NaN</td>\n",
       "      <td>...</td>\n",
       "      <td>NaN</td>\n",
       "      <td>NaN</td>\n",
       "      <td>NaN</td>\n",
       "      <td>NaN</td>\n",
       "      <td>NaN</td>\n",
       "      <td>NaN</td>\n",
       "      <td>NaN</td>\n",
       "      <td>NaN</td>\n",
       "      <td>NaN</td>\n",
       "      <td>NaN</td>\n",
       "    </tr>\n",
       "    <tr>\n",
       "      <th>44943</th>\n",
       "      <td>NaN</td>\n",
       "      <td>NaN</td>\n",
       "      <td>International</td>\n",
       "      <td>2020-01-02</td>\n",
       "      <td>0.0</td>\n",
       "      <td>0.0</td>\n",
       "      <td>NaN</td>\n",
       "      <td>0.0</td>\n",
       "      <td>0.0</td>\n",
       "      <td>NaN</td>\n",
       "      <td>...</td>\n",
       "      <td>NaN</td>\n",
       "      <td>NaN</td>\n",
       "      <td>NaN</td>\n",
       "      <td>NaN</td>\n",
       "      <td>NaN</td>\n",
       "      <td>NaN</td>\n",
       "      <td>NaN</td>\n",
       "      <td>NaN</td>\n",
       "      <td>NaN</td>\n",
       "      <td>NaN</td>\n",
       "    </tr>\n",
       "    <tr>\n",
       "      <th>44944</th>\n",
       "      <td>NaN</td>\n",
       "      <td>NaN</td>\n",
       "      <td>International</td>\n",
       "      <td>2020-01-03</td>\n",
       "      <td>0.0</td>\n",
       "      <td>0.0</td>\n",
       "      <td>NaN</td>\n",
       "      <td>0.0</td>\n",
       "      <td>0.0</td>\n",
       "      <td>NaN</td>\n",
       "      <td>...</td>\n",
       "      <td>NaN</td>\n",
       "      <td>NaN</td>\n",
       "      <td>NaN</td>\n",
       "      <td>NaN</td>\n",
       "      <td>NaN</td>\n",
       "      <td>NaN</td>\n",
       "      <td>NaN</td>\n",
       "      <td>NaN</td>\n",
       "      <td>NaN</td>\n",
       "      <td>NaN</td>\n",
       "    </tr>\n",
       "    <tr>\n",
       "      <th>44945</th>\n",
       "      <td>NaN</td>\n",
       "      <td>NaN</td>\n",
       "      <td>International</td>\n",
       "      <td>2020-01-04</td>\n",
       "      <td>0.0</td>\n",
       "      <td>0.0</td>\n",
       "      <td>NaN</td>\n",
       "      <td>0.0</td>\n",
       "      <td>0.0</td>\n",
       "      <td>NaN</td>\n",
       "      <td>...</td>\n",
       "      <td>NaN</td>\n",
       "      <td>NaN</td>\n",
       "      <td>NaN</td>\n",
       "      <td>NaN</td>\n",
       "      <td>NaN</td>\n",
       "      <td>NaN</td>\n",
       "      <td>NaN</td>\n",
       "      <td>NaN</td>\n",
       "      <td>NaN</td>\n",
       "      <td>NaN</td>\n",
       "    </tr>\n",
       "    <tr>\n",
       "      <th>...</th>\n",
       "      <td>...</td>\n",
       "      <td>...</td>\n",
       "      <td>...</td>\n",
       "      <td>...</td>\n",
       "      <td>...</td>\n",
       "      <td>...</td>\n",
       "      <td>...</td>\n",
       "      <td>...</td>\n",
       "      <td>...</td>\n",
       "      <td>...</td>\n",
       "      <td>...</td>\n",
       "      <td>...</td>\n",
       "      <td>...</td>\n",
       "      <td>...</td>\n",
       "      <td>...</td>\n",
       "      <td>...</td>\n",
       "      <td>...</td>\n",
       "      <td>...</td>\n",
       "      <td>...</td>\n",
       "      <td>...</td>\n",
       "      <td>...</td>\n",
       "    </tr>\n",
       "    <tr>\n",
       "      <th>45202</th>\n",
       "      <td>NaN</td>\n",
       "      <td>NaN</td>\n",
       "      <td>International</td>\n",
       "      <td>2020-09-17</td>\n",
       "      <td>696.0</td>\n",
       "      <td>NaN</td>\n",
       "      <td>NaN</td>\n",
       "      <td>7.0</td>\n",
       "      <td>NaN</td>\n",
       "      <td>NaN</td>\n",
       "      <td>...</td>\n",
       "      <td>NaN</td>\n",
       "      <td>NaN</td>\n",
       "      <td>NaN</td>\n",
       "      <td>NaN</td>\n",
       "      <td>NaN</td>\n",
       "      <td>NaN</td>\n",
       "      <td>NaN</td>\n",
       "      <td>NaN</td>\n",
       "      <td>NaN</td>\n",
       "      <td>NaN</td>\n",
       "    </tr>\n",
       "    <tr>\n",
       "      <th>45203</th>\n",
       "      <td>NaN</td>\n",
       "      <td>NaN</td>\n",
       "      <td>International</td>\n",
       "      <td>2020-09-18</td>\n",
       "      <td>696.0</td>\n",
       "      <td>NaN</td>\n",
       "      <td>NaN</td>\n",
       "      <td>7.0</td>\n",
       "      <td>NaN</td>\n",
       "      <td>NaN</td>\n",
       "      <td>...</td>\n",
       "      <td>NaN</td>\n",
       "      <td>NaN</td>\n",
       "      <td>NaN</td>\n",
       "      <td>NaN</td>\n",
       "      <td>NaN</td>\n",
       "      <td>NaN</td>\n",
       "      <td>NaN</td>\n",
       "      <td>NaN</td>\n",
       "      <td>NaN</td>\n",
       "      <td>NaN</td>\n",
       "    </tr>\n",
       "    <tr>\n",
       "      <th>45204</th>\n",
       "      <td>NaN</td>\n",
       "      <td>NaN</td>\n",
       "      <td>International</td>\n",
       "      <td>2020-09-19</td>\n",
       "      <td>696.0</td>\n",
       "      <td>NaN</td>\n",
       "      <td>NaN</td>\n",
       "      <td>7.0</td>\n",
       "      <td>NaN</td>\n",
       "      <td>NaN</td>\n",
       "      <td>...</td>\n",
       "      <td>NaN</td>\n",
       "      <td>NaN</td>\n",
       "      <td>NaN</td>\n",
       "      <td>NaN</td>\n",
       "      <td>NaN</td>\n",
       "      <td>NaN</td>\n",
       "      <td>NaN</td>\n",
       "      <td>NaN</td>\n",
       "      <td>NaN</td>\n",
       "      <td>NaN</td>\n",
       "    </tr>\n",
       "    <tr>\n",
       "      <th>45205</th>\n",
       "      <td>NaN</td>\n",
       "      <td>NaN</td>\n",
       "      <td>International</td>\n",
       "      <td>2020-09-20</td>\n",
       "      <td>696.0</td>\n",
       "      <td>NaN</td>\n",
       "      <td>NaN</td>\n",
       "      <td>7.0</td>\n",
       "      <td>NaN</td>\n",
       "      <td>NaN</td>\n",
       "      <td>...</td>\n",
       "      <td>NaN</td>\n",
       "      <td>NaN</td>\n",
       "      <td>NaN</td>\n",
       "      <td>NaN</td>\n",
       "      <td>NaN</td>\n",
       "      <td>NaN</td>\n",
       "      <td>NaN</td>\n",
       "      <td>NaN</td>\n",
       "      <td>NaN</td>\n",
       "      <td>NaN</td>\n",
       "    </tr>\n",
       "    <tr>\n",
       "      <th>45206</th>\n",
       "      <td>NaN</td>\n",
       "      <td>NaN</td>\n",
       "      <td>International</td>\n",
       "      <td>2020-09-21</td>\n",
       "      <td>696.0</td>\n",
       "      <td>NaN</td>\n",
       "      <td>NaN</td>\n",
       "      <td>7.0</td>\n",
       "      <td>NaN</td>\n",
       "      <td>NaN</td>\n",
       "      <td>...</td>\n",
       "      <td>NaN</td>\n",
       "      <td>NaN</td>\n",
       "      <td>NaN</td>\n",
       "      <td>NaN</td>\n",
       "      <td>NaN</td>\n",
       "      <td>NaN</td>\n",
       "      <td>NaN</td>\n",
       "      <td>NaN</td>\n",
       "      <td>NaN</td>\n",
       "      <td>NaN</td>\n",
       "    </tr>\n",
       "  </tbody>\n",
       "</table>\n",
       "<p>266 rows × 41 columns</p>\n",
       "</div>"
      ],
      "text/plain": [
       "      iso_code continent       location        date  total_cases  new_cases  \\\n",
       "44941      NaN       NaN  International  2019-12-31          0.0        0.0   \n",
       "44942      NaN       NaN  International  2020-01-01          0.0        0.0   \n",
       "44943      NaN       NaN  International  2020-01-02          0.0        0.0   \n",
       "44944      NaN       NaN  International  2020-01-03          0.0        0.0   \n",
       "44945      NaN       NaN  International  2020-01-04          0.0        0.0   \n",
       "...        ...       ...            ...         ...          ...        ...   \n",
       "45202      NaN       NaN  International  2020-09-17        696.0        NaN   \n",
       "45203      NaN       NaN  International  2020-09-18        696.0        NaN   \n",
       "45204      NaN       NaN  International  2020-09-19        696.0        NaN   \n",
       "45205      NaN       NaN  International  2020-09-20        696.0        NaN   \n",
       "45206      NaN       NaN  International  2020-09-21        696.0        NaN   \n",
       "\n",
       "       new_cases_smoothed  total_deaths  new_deaths  new_deaths_smoothed  ...  \\\n",
       "44941                 NaN           0.0         0.0                  NaN  ...   \n",
       "44942                 NaN           0.0         0.0                  NaN  ...   \n",
       "44943                 NaN           0.0         0.0                  NaN  ...   \n",
       "44944                 NaN           0.0         0.0                  NaN  ...   \n",
       "44945                 NaN           0.0         0.0                  NaN  ...   \n",
       "...                   ...           ...         ...                  ...  ...   \n",
       "45202                 NaN           7.0         NaN                  NaN  ...   \n",
       "45203                 NaN           7.0         NaN                  NaN  ...   \n",
       "45204                 NaN           7.0         NaN                  NaN  ...   \n",
       "45205                 NaN           7.0         NaN                  NaN  ...   \n",
       "45206                 NaN           7.0         NaN                  NaN  ...   \n",
       "\n",
       "       gdp_per_capita  extreme_poverty  cardiovasc_death_rate  \\\n",
       "44941             NaN              NaN                    NaN   \n",
       "44942             NaN              NaN                    NaN   \n",
       "44943             NaN              NaN                    NaN   \n",
       "44944             NaN              NaN                    NaN   \n",
       "44945             NaN              NaN                    NaN   \n",
       "...               ...              ...                    ...   \n",
       "45202             NaN              NaN                    NaN   \n",
       "45203             NaN              NaN                    NaN   \n",
       "45204             NaN              NaN                    NaN   \n",
       "45205             NaN              NaN                    NaN   \n",
       "45206             NaN              NaN                    NaN   \n",
       "\n",
       "       diabetes_prevalence  female_smokers  male_smokers  \\\n",
       "44941                  NaN             NaN           NaN   \n",
       "44942                  NaN             NaN           NaN   \n",
       "44943                  NaN             NaN           NaN   \n",
       "44944                  NaN             NaN           NaN   \n",
       "44945                  NaN             NaN           NaN   \n",
       "...                    ...             ...           ...   \n",
       "45202                  NaN             NaN           NaN   \n",
       "45203                  NaN             NaN           NaN   \n",
       "45204                  NaN             NaN           NaN   \n",
       "45205                  NaN             NaN           NaN   \n",
       "45206                  NaN             NaN           NaN   \n",
       "\n",
       "       handwashing_facilities  hospital_beds_per_thousand  life_expectancy  \\\n",
       "44941                     NaN                         NaN              NaN   \n",
       "44942                     NaN                         NaN              NaN   \n",
       "44943                     NaN                         NaN              NaN   \n",
       "44944                     NaN                         NaN              NaN   \n",
       "44945                     NaN                         NaN              NaN   \n",
       "...                       ...                         ...              ...   \n",
       "45202                     NaN                         NaN              NaN   \n",
       "45203                     NaN                         NaN              NaN   \n",
       "45204                     NaN                         NaN              NaN   \n",
       "45205                     NaN                         NaN              NaN   \n",
       "45206                     NaN                         NaN              NaN   \n",
       "\n",
       "       human_development_index  \n",
       "44941                      NaN  \n",
       "44942                      NaN  \n",
       "44943                      NaN  \n",
       "44944                      NaN  \n",
       "44945                      NaN  \n",
       "...                        ...  \n",
       "45202                      NaN  \n",
       "45203                      NaN  \n",
       "45204                      NaN  \n",
       "45205                      NaN  \n",
       "45206                      NaN  \n",
       "\n",
       "[266 rows x 41 columns]"
      ]
     },
     "execution_count": 5,
     "metadata": {},
     "output_type": "execute_result"
    }
   ],
   "source": [
    "# 'iso_code' nulls\n",
    "iso_code_nulls = df[df.iso_code.isnull()]\n",
    "iso_code_nulls"
   ]
  },
  {
   "cell_type": "markdown",
   "metadata": {
    "slideshow": {
     "slide_type": "skip"
    }
   },
   "source": [
    "> **Note:** Apparently, when `iso_code` is missing, the `continent` is missing too and `location` value is `International`, let's confirm that."
   ]
  },
  {
   "cell_type": "code",
   "execution_count": 6,
   "metadata": {
    "slideshow": {
     "slide_type": "skip"
    }
   },
   "outputs": [
    {
     "data": {
      "text/plain": [
       "0"
      ]
     },
     "execution_count": 6,
     "metadata": {},
     "output_type": "execute_result"
    }
   ],
   "source": [
    "# Checking if all 'continent' values are emissing if 'iso_code' is missing\n",
    "iso_code_nulls['continent'].count()"
   ]
  },
  {
   "cell_type": "code",
   "execution_count": 7,
   "metadata": {
    "scrolled": true,
    "slideshow": {
     "slide_type": "skip"
    }
   },
   "outputs": [
    {
     "data": {
      "text/plain": [
       "International    266\n",
       "Name: location, dtype: int64"
      ]
     },
     "execution_count": 7,
     "metadata": {},
     "output_type": "execute_result"
    }
   ],
   "source": [
    "# Checking if all 'location' values are 'International' if 'iso_code' is missing\n",
    "iso_code_nulls.location.value_counts()"
   ]
  },
  {
   "cell_type": "code",
   "execution_count": 8,
   "metadata": {
    "slideshow": {
     "slide_type": "skip"
    }
   },
   "outputs": [
    {
     "data": {
      "text/plain": [
       "266"
      ]
     },
     "execution_count": 8,
     "metadata": {},
     "output_type": "execute_result"
    }
   ],
   "source": [
    "# 'International' values in 'location' variable\n",
    "df.location.value_counts()['International']"
   ]
  },
  {
   "cell_type": "markdown",
   "metadata": {
    "slideshow": {
     "slide_type": "skip"
    }
   },
   "source": [
    "> **Notes:** <br>\n",
    "> - In this data, we have `266` records with `International` value in `location` variable that results in nulls in both `iso_code` and `continent` variables.\n",
    "> - Thus the missing values in `iso_code` are because values in `location` are `International`.\n",
    ">\n",
    "> **Reference:** The fifth point in dataset's [Changelog](https://github.com/owid/covid-19-data/tree/master/public/data#changelog).\n",
    ">\n",
    "> That explains the missing values in `iso_code`, but in this project, I'm going to separate tables and I will make `iso_code` the id to connect on, thus I need to replace these missing values with an abbreviation for `International` as `INT` for example.\n",
    ">\n",
    "> Let's document this out in [Assessment Docummentions](#id_4_3) section."
   ]
  },
  {
   "cell_type": "markdown",
   "metadata": {
    "slideshow": {
     "slide_type": "skip"
    }
   },
   "source": [
    "## Continent Missing Values\n",
    "\n",
    "[Back to Programmatic Assessment](#id_4_2)"
   ]
  },
  {
   "cell_type": "code",
   "execution_count": 9,
   "metadata": {
    "scrolled": true,
    "slideshow": {
     "slide_type": "skip"
    }
   },
   "outputs": [
    {
     "data": {
      "text/html": [
       "<div>\n",
       "<style scoped>\n",
       "    .dataframe tbody tr th:only-of-type {\n",
       "        vertical-align: middle;\n",
       "    }\n",
       "\n",
       "    .dataframe tbody tr th {\n",
       "        vertical-align: top;\n",
       "    }\n",
       "\n",
       "    .dataframe thead th {\n",
       "        text-align: right;\n",
       "    }\n",
       "</style>\n",
       "<table border=\"1\" class=\"dataframe\">\n",
       "  <thead>\n",
       "    <tr style=\"text-align: right;\">\n",
       "      <th></th>\n",
       "      <th>iso_code</th>\n",
       "      <th>continent</th>\n",
       "      <th>location</th>\n",
       "      <th>date</th>\n",
       "      <th>total_cases</th>\n",
       "      <th>new_cases</th>\n",
       "      <th>new_cases_smoothed</th>\n",
       "      <th>total_deaths</th>\n",
       "      <th>new_deaths</th>\n",
       "      <th>new_deaths_smoothed</th>\n",
       "      <th>...</th>\n",
       "      <th>gdp_per_capita</th>\n",
       "      <th>extreme_poverty</th>\n",
       "      <th>cardiovasc_death_rate</th>\n",
       "      <th>diabetes_prevalence</th>\n",
       "      <th>female_smokers</th>\n",
       "      <th>male_smokers</th>\n",
       "      <th>handwashing_facilities</th>\n",
       "      <th>hospital_beds_per_thousand</th>\n",
       "      <th>life_expectancy</th>\n",
       "      <th>human_development_index</th>\n",
       "    </tr>\n",
       "  </thead>\n",
       "  <tbody>\n",
       "    <tr>\n",
       "      <th>44675</th>\n",
       "      <td>OWID_WRL</td>\n",
       "      <td>NaN</td>\n",
       "      <td>World</td>\n",
       "      <td>2019-12-31</td>\n",
       "      <td>27.0</td>\n",
       "      <td>27.0</td>\n",
       "      <td>NaN</td>\n",
       "      <td>0.0</td>\n",
       "      <td>0.0</td>\n",
       "      <td>NaN</td>\n",
       "      <td>...</td>\n",
       "      <td>15469.207</td>\n",
       "      <td>10.0</td>\n",
       "      <td>233.07</td>\n",
       "      <td>8.51</td>\n",
       "      <td>6.434</td>\n",
       "      <td>34.635</td>\n",
       "      <td>60.13</td>\n",
       "      <td>2.705</td>\n",
       "      <td>72.58</td>\n",
       "      <td>NaN</td>\n",
       "    </tr>\n",
       "    <tr>\n",
       "      <th>44676</th>\n",
       "      <td>OWID_WRL</td>\n",
       "      <td>NaN</td>\n",
       "      <td>World</td>\n",
       "      <td>2020-01-01</td>\n",
       "      <td>27.0</td>\n",
       "      <td>0.0</td>\n",
       "      <td>NaN</td>\n",
       "      <td>0.0</td>\n",
       "      <td>0.0</td>\n",
       "      <td>NaN</td>\n",
       "      <td>...</td>\n",
       "      <td>15469.207</td>\n",
       "      <td>10.0</td>\n",
       "      <td>233.07</td>\n",
       "      <td>8.51</td>\n",
       "      <td>6.434</td>\n",
       "      <td>34.635</td>\n",
       "      <td>60.13</td>\n",
       "      <td>2.705</td>\n",
       "      <td>72.58</td>\n",
       "      <td>NaN</td>\n",
       "    </tr>\n",
       "    <tr>\n",
       "      <th>44677</th>\n",
       "      <td>OWID_WRL</td>\n",
       "      <td>NaN</td>\n",
       "      <td>World</td>\n",
       "      <td>2020-01-02</td>\n",
       "      <td>27.0</td>\n",
       "      <td>0.0</td>\n",
       "      <td>NaN</td>\n",
       "      <td>0.0</td>\n",
       "      <td>0.0</td>\n",
       "      <td>NaN</td>\n",
       "      <td>...</td>\n",
       "      <td>15469.207</td>\n",
       "      <td>10.0</td>\n",
       "      <td>233.07</td>\n",
       "      <td>8.51</td>\n",
       "      <td>6.434</td>\n",
       "      <td>34.635</td>\n",
       "      <td>60.13</td>\n",
       "      <td>2.705</td>\n",
       "      <td>72.58</td>\n",
       "      <td>NaN</td>\n",
       "    </tr>\n",
       "    <tr>\n",
       "      <th>44678</th>\n",
       "      <td>OWID_WRL</td>\n",
       "      <td>NaN</td>\n",
       "      <td>World</td>\n",
       "      <td>2020-01-03</td>\n",
       "      <td>44.0</td>\n",
       "      <td>17.0</td>\n",
       "      <td>NaN</td>\n",
       "      <td>0.0</td>\n",
       "      <td>0.0</td>\n",
       "      <td>NaN</td>\n",
       "      <td>...</td>\n",
       "      <td>15469.207</td>\n",
       "      <td>10.0</td>\n",
       "      <td>233.07</td>\n",
       "      <td>8.51</td>\n",
       "      <td>6.434</td>\n",
       "      <td>34.635</td>\n",
       "      <td>60.13</td>\n",
       "      <td>2.705</td>\n",
       "      <td>72.58</td>\n",
       "      <td>NaN</td>\n",
       "    </tr>\n",
       "    <tr>\n",
       "      <th>44679</th>\n",
       "      <td>OWID_WRL</td>\n",
       "      <td>NaN</td>\n",
       "      <td>World</td>\n",
       "      <td>2020-01-04</td>\n",
       "      <td>44.0</td>\n",
       "      <td>0.0</td>\n",
       "      <td>NaN</td>\n",
       "      <td>0.0</td>\n",
       "      <td>0.0</td>\n",
       "      <td>NaN</td>\n",
       "      <td>...</td>\n",
       "      <td>15469.207</td>\n",
       "      <td>10.0</td>\n",
       "      <td>233.07</td>\n",
       "      <td>8.51</td>\n",
       "      <td>6.434</td>\n",
       "      <td>34.635</td>\n",
       "      <td>60.13</td>\n",
       "      <td>2.705</td>\n",
       "      <td>72.58</td>\n",
       "      <td>NaN</td>\n",
       "    </tr>\n",
       "    <tr>\n",
       "      <th>...</th>\n",
       "      <td>...</td>\n",
       "      <td>...</td>\n",
       "      <td>...</td>\n",
       "      <td>...</td>\n",
       "      <td>...</td>\n",
       "      <td>...</td>\n",
       "      <td>...</td>\n",
       "      <td>...</td>\n",
       "      <td>...</td>\n",
       "      <td>...</td>\n",
       "      <td>...</td>\n",
       "      <td>...</td>\n",
       "      <td>...</td>\n",
       "      <td>...</td>\n",
       "      <td>...</td>\n",
       "      <td>...</td>\n",
       "      <td>...</td>\n",
       "      <td>...</td>\n",
       "      <td>...</td>\n",
       "      <td>...</td>\n",
       "      <td>...</td>\n",
       "    </tr>\n",
       "    <tr>\n",
       "      <th>45202</th>\n",
       "      <td>NaN</td>\n",
       "      <td>NaN</td>\n",
       "      <td>International</td>\n",
       "      <td>2020-09-17</td>\n",
       "      <td>696.0</td>\n",
       "      <td>NaN</td>\n",
       "      <td>NaN</td>\n",
       "      <td>7.0</td>\n",
       "      <td>NaN</td>\n",
       "      <td>NaN</td>\n",
       "      <td>...</td>\n",
       "      <td>NaN</td>\n",
       "      <td>NaN</td>\n",
       "      <td>NaN</td>\n",
       "      <td>NaN</td>\n",
       "      <td>NaN</td>\n",
       "      <td>NaN</td>\n",
       "      <td>NaN</td>\n",
       "      <td>NaN</td>\n",
       "      <td>NaN</td>\n",
       "      <td>NaN</td>\n",
       "    </tr>\n",
       "    <tr>\n",
       "      <th>45203</th>\n",
       "      <td>NaN</td>\n",
       "      <td>NaN</td>\n",
       "      <td>International</td>\n",
       "      <td>2020-09-18</td>\n",
       "      <td>696.0</td>\n",
       "      <td>NaN</td>\n",
       "      <td>NaN</td>\n",
       "      <td>7.0</td>\n",
       "      <td>NaN</td>\n",
       "      <td>NaN</td>\n",
       "      <td>...</td>\n",
       "      <td>NaN</td>\n",
       "      <td>NaN</td>\n",
       "      <td>NaN</td>\n",
       "      <td>NaN</td>\n",
       "      <td>NaN</td>\n",
       "      <td>NaN</td>\n",
       "      <td>NaN</td>\n",
       "      <td>NaN</td>\n",
       "      <td>NaN</td>\n",
       "      <td>NaN</td>\n",
       "    </tr>\n",
       "    <tr>\n",
       "      <th>45204</th>\n",
       "      <td>NaN</td>\n",
       "      <td>NaN</td>\n",
       "      <td>International</td>\n",
       "      <td>2020-09-19</td>\n",
       "      <td>696.0</td>\n",
       "      <td>NaN</td>\n",
       "      <td>NaN</td>\n",
       "      <td>7.0</td>\n",
       "      <td>NaN</td>\n",
       "      <td>NaN</td>\n",
       "      <td>...</td>\n",
       "      <td>NaN</td>\n",
       "      <td>NaN</td>\n",
       "      <td>NaN</td>\n",
       "      <td>NaN</td>\n",
       "      <td>NaN</td>\n",
       "      <td>NaN</td>\n",
       "      <td>NaN</td>\n",
       "      <td>NaN</td>\n",
       "      <td>NaN</td>\n",
       "      <td>NaN</td>\n",
       "    </tr>\n",
       "    <tr>\n",
       "      <th>45205</th>\n",
       "      <td>NaN</td>\n",
       "      <td>NaN</td>\n",
       "      <td>International</td>\n",
       "      <td>2020-09-20</td>\n",
       "      <td>696.0</td>\n",
       "      <td>NaN</td>\n",
       "      <td>NaN</td>\n",
       "      <td>7.0</td>\n",
       "      <td>NaN</td>\n",
       "      <td>NaN</td>\n",
       "      <td>...</td>\n",
       "      <td>NaN</td>\n",
       "      <td>NaN</td>\n",
       "      <td>NaN</td>\n",
       "      <td>NaN</td>\n",
       "      <td>NaN</td>\n",
       "      <td>NaN</td>\n",
       "      <td>NaN</td>\n",
       "      <td>NaN</td>\n",
       "      <td>NaN</td>\n",
       "      <td>NaN</td>\n",
       "    </tr>\n",
       "    <tr>\n",
       "      <th>45206</th>\n",
       "      <td>NaN</td>\n",
       "      <td>NaN</td>\n",
       "      <td>International</td>\n",
       "      <td>2020-09-21</td>\n",
       "      <td>696.0</td>\n",
       "      <td>NaN</td>\n",
       "      <td>NaN</td>\n",
       "      <td>7.0</td>\n",
       "      <td>NaN</td>\n",
       "      <td>NaN</td>\n",
       "      <td>...</td>\n",
       "      <td>NaN</td>\n",
       "      <td>NaN</td>\n",
       "      <td>NaN</td>\n",
       "      <td>NaN</td>\n",
       "      <td>NaN</td>\n",
       "      <td>NaN</td>\n",
       "      <td>NaN</td>\n",
       "      <td>NaN</td>\n",
       "      <td>NaN</td>\n",
       "      <td>NaN</td>\n",
       "    </tr>\n",
       "  </tbody>\n",
       "</table>\n",
       "<p>532 rows × 41 columns</p>\n",
       "</div>"
      ],
      "text/plain": [
       "       iso_code continent       location        date  total_cases  new_cases  \\\n",
       "44675  OWID_WRL       NaN          World  2019-12-31         27.0       27.0   \n",
       "44676  OWID_WRL       NaN          World  2020-01-01         27.0        0.0   \n",
       "44677  OWID_WRL       NaN          World  2020-01-02         27.0        0.0   \n",
       "44678  OWID_WRL       NaN          World  2020-01-03         44.0       17.0   \n",
       "44679  OWID_WRL       NaN          World  2020-01-04         44.0        0.0   \n",
       "...         ...       ...            ...         ...          ...        ...   \n",
       "45202       NaN       NaN  International  2020-09-17        696.0        NaN   \n",
       "45203       NaN       NaN  International  2020-09-18        696.0        NaN   \n",
       "45204       NaN       NaN  International  2020-09-19        696.0        NaN   \n",
       "45205       NaN       NaN  International  2020-09-20        696.0        NaN   \n",
       "45206       NaN       NaN  International  2020-09-21        696.0        NaN   \n",
       "\n",
       "       new_cases_smoothed  total_deaths  new_deaths  new_deaths_smoothed  ...  \\\n",
       "44675                 NaN           0.0         0.0                  NaN  ...   \n",
       "44676                 NaN           0.0         0.0                  NaN  ...   \n",
       "44677                 NaN           0.0         0.0                  NaN  ...   \n",
       "44678                 NaN           0.0         0.0                  NaN  ...   \n",
       "44679                 NaN           0.0         0.0                  NaN  ...   \n",
       "...                   ...           ...         ...                  ...  ...   \n",
       "45202                 NaN           7.0         NaN                  NaN  ...   \n",
       "45203                 NaN           7.0         NaN                  NaN  ...   \n",
       "45204                 NaN           7.0         NaN                  NaN  ...   \n",
       "45205                 NaN           7.0         NaN                  NaN  ...   \n",
       "45206                 NaN           7.0         NaN                  NaN  ...   \n",
       "\n",
       "       gdp_per_capita  extreme_poverty  cardiovasc_death_rate  \\\n",
       "44675       15469.207             10.0                 233.07   \n",
       "44676       15469.207             10.0                 233.07   \n",
       "44677       15469.207             10.0                 233.07   \n",
       "44678       15469.207             10.0                 233.07   \n",
       "44679       15469.207             10.0                 233.07   \n",
       "...               ...              ...                    ...   \n",
       "45202             NaN              NaN                    NaN   \n",
       "45203             NaN              NaN                    NaN   \n",
       "45204             NaN              NaN                    NaN   \n",
       "45205             NaN              NaN                    NaN   \n",
       "45206             NaN              NaN                    NaN   \n",
       "\n",
       "       diabetes_prevalence  female_smokers  male_smokers  \\\n",
       "44675                 8.51           6.434        34.635   \n",
       "44676                 8.51           6.434        34.635   \n",
       "44677                 8.51           6.434        34.635   \n",
       "44678                 8.51           6.434        34.635   \n",
       "44679                 8.51           6.434        34.635   \n",
       "...                    ...             ...           ...   \n",
       "45202                  NaN             NaN           NaN   \n",
       "45203                  NaN             NaN           NaN   \n",
       "45204                  NaN             NaN           NaN   \n",
       "45205                  NaN             NaN           NaN   \n",
       "45206                  NaN             NaN           NaN   \n",
       "\n",
       "       handwashing_facilities  hospital_beds_per_thousand  life_expectancy  \\\n",
       "44675                   60.13                       2.705            72.58   \n",
       "44676                   60.13                       2.705            72.58   \n",
       "44677                   60.13                       2.705            72.58   \n",
       "44678                   60.13                       2.705            72.58   \n",
       "44679                   60.13                       2.705            72.58   \n",
       "...                       ...                         ...              ...   \n",
       "45202                     NaN                         NaN              NaN   \n",
       "45203                     NaN                         NaN              NaN   \n",
       "45204                     NaN                         NaN              NaN   \n",
       "45205                     NaN                         NaN              NaN   \n",
       "45206                     NaN                         NaN              NaN   \n",
       "\n",
       "       human_development_index  \n",
       "44675                      NaN  \n",
       "44676                      NaN  \n",
       "44677                      NaN  \n",
       "44678                      NaN  \n",
       "44679                      NaN  \n",
       "...                        ...  \n",
       "45202                      NaN  \n",
       "45203                      NaN  \n",
       "45204                      NaN  \n",
       "45205                      NaN  \n",
       "45206                      NaN  \n",
       "\n",
       "[532 rows x 41 columns]"
      ]
     },
     "execution_count": 9,
     "metadata": {},
     "output_type": "execute_result"
    }
   ],
   "source": [
    "# 'continent' nulls\n",
    "continent_nulls = df[df.continent.isnull()]\n",
    "continent_nulls"
   ]
  },
  {
   "cell_type": "code",
   "execution_count": 10,
   "metadata": {
    "slideshow": {
     "slide_type": "skip"
    }
   },
   "outputs": [
    {
     "data": {
      "text/plain": [
       "OWID_WRL    266\n",
       "Name: iso_code, dtype: int64"
      ]
     },
     "execution_count": 10,
     "metadata": {},
     "output_type": "execute_result"
    }
   ],
   "source": [
    "# Checking if all 'iso_code' values are emissing if 'continent' is missing\n",
    "continent_nulls['iso_code'].value_counts()"
   ]
  },
  {
   "cell_type": "code",
   "execution_count": 11,
   "metadata": {
    "slideshow": {
     "slide_type": "skip"
    }
   },
   "outputs": [
    {
     "data": {
      "text/plain": [
       "266"
      ]
     },
     "execution_count": 11,
     "metadata": {},
     "output_type": "execute_result"
    }
   ],
   "source": [
    "# 'OWID_WRL' values in 'location' variable\n",
    "df.location.value_counts()['World']"
   ]
  },
  {
   "cell_type": "markdown",
   "metadata": {
    "slideshow": {
     "slide_type": "skip"
    }
   },
   "source": [
    "> **Notes:** <br>\n",
    "> - As in the previous note, we have `266` records with `World` value in `location` variable that results in nulls in `continent` variable and `OWID_WRL` value in `iso_code` variable.\n",
    "> - Thus the missing values in `continent` are because values in `location` are `International` or `World`.\n",
    "> \n",
    "> **Reference:** The fifth point in dataset's [Changelog](https://github.com/owid/covid-19-data/tree/master/public/data#changelog).\n",
    ">\n",
    "> That explains the missing values in `continent`, thus **no cleaning** needed."
   ]
  },
  {
   "cell_type": "markdown",
   "metadata": {
    "slideshow": {
     "slide_type": "skip"
    }
   },
   "source": [
    "## Continent Unique Values\n",
    "\n",
    "[Back to Programmatic Assessment](#id_4_2)"
   ]
  },
  {
   "cell_type": "code",
   "execution_count": 12,
   "metadata": {
    "scrolled": false,
    "slideshow": {
     "slide_type": "skip"
    }
   },
   "outputs": [
    {
     "data": {
      "text/plain": [
       "Europe           11916\n",
       "Asia             10849\n",
       "Africa           10498\n",
       "North America     7037\n",
       "South America     2688\n",
       "Oceania           1687\n",
       "Name: continent, dtype: int64"
      ]
     },
     "execution_count": 12,
     "metadata": {},
     "output_type": "execute_result"
    }
   ],
   "source": [
    "df.continent.value_counts()"
   ]
  },
  {
   "cell_type": "markdown",
   "metadata": {
    "slideshow": {
     "slide_type": "skip"
    }
   },
   "source": [
    "## Location Unique Values\n",
    "\n",
    "[Back to Programmatic Assessment](#id_4_2)"
   ]
  },
  {
   "cell_type": "code",
   "execution_count": 13,
   "metadata": {
    "slideshow": {
     "slide_type": "skip"
    }
   },
   "outputs": [
    {
     "data": {
      "text/plain": [
       "Bahrain           266\n",
       "Luxembourg        266\n",
       "Japan             266\n",
       "Croatia           266\n",
       "Vietnam           266\n",
       "                 ... \n",
       "Western Sahara    149\n",
       "Tajikistan        144\n",
       "Comoros           143\n",
       "Lesotho           130\n",
       "Hong Kong          16\n",
       "Name: location, Length: 212, dtype: int64"
      ]
     },
     "execution_count": 13,
     "metadata": {},
     "output_type": "execute_result"
    }
   ],
   "source": [
    "df.location.value_counts()"
   ]
  },
  {
   "cell_type": "markdown",
   "metadata": {
    "slideshow": {
     "slide_type": "skip"
    }
   },
   "source": [
    "> **Note:** The variable name `location` can be change to be more informative, e.g. `country_name`.\n",
    "> \n",
    "> Let's document this out in [Assessment Docummentions](#id_4_3) section."
   ]
  },
  {
   "cell_type": "markdown",
   "metadata": {
    "slideshow": {
     "slide_type": "skip"
    }
   },
   "source": [
    "## Tests Units Unique Values\n",
    "\n",
    "[Back to Programmatic Assessment](#id_4_2)"
   ]
  },
  {
   "cell_type": "code",
   "execution_count": 14,
   "metadata": {
    "scrolled": true,
    "slideshow": {
     "slide_type": "skip"
    }
   },
   "outputs": [
    {
     "data": {
      "text/plain": [
       "tests performed                  9655\n",
       "people tested                    4557\n",
       "samples tested                   3731\n",
       "units unclear                     441\n",
       "people tested (incl. non-PCR)     191\n",
       "Name: tests_units, dtype: int64"
      ]
     },
     "execution_count": 14,
     "metadata": {},
     "output_type": "execute_result"
    }
   ],
   "source": [
    "df.tests_units.value_counts()"
   ]
  },
  {
   "cell_type": "markdown",
   "metadata": {
    "slideshow": {
     "slide_type": "skip"
    }
   },
   "source": [
    "> **Notes:**\n",
    "> - These categorical values aren't meaningful to me, and I need to do further investigation and search to better understand it.\n",
    "> - On [Variables Description](https://github.com/owid/covid-19-data/blob/master/public/data/owid-covid-codebook.csv) page, the description says that thoese values are `Units used by the location to report its testing data`.\n",
    "> - Well, that's better but why does it happen from the start?! Let's do more search.\n",
    "> - On this page [Our checklist for COVID-19 testing data](https://ourworldindata.org/coronavirus-testing#our-checklist-for-covid-19-testing-data), it says that different `countries` publish their testing `data` according `different definitions`. In order to make meaningful comparisons between countries and over time, the figures need to be interpreted alongside an understanding of these differences.\n",
    "> - That make sense now and explains the inconsistency in that variable, thus we **don't need to change these values**.\n",
    "> - So, let's check some of these values for both countries who reported their test units and who didn't.\n",
    "> We need only to make these values in uppercase format.\n",
    ">\n",
    ">  Let's document this out in [Assessment Docummentions](#id_4_3) section."
   ]
  },
  {
   "cell_type": "code",
   "execution_count": 15,
   "metadata": {
    "scrolled": true,
    "slideshow": {
     "slide_type": "skip"
    }
   },
   "outputs": [
    {
     "data": {
      "text/plain": [
       "Mexico            258\n",
       "Taiwan            249\n",
       "South Korea       244\n",
       "Switzerland       238\n",
       "Czech Republic    237\n",
       "                 ... \n",
       "Sweden             77\n",
       "Oman               63\n",
       "Vietnam            59\n",
       "Hong Kong          16\n",
       "Jordan              1\n",
       "Name: location, Length: 101, dtype: int64"
      ]
     },
     "execution_count": 15,
     "metadata": {},
     "output_type": "execute_result"
    }
   ],
   "source": [
    "# Checking the non-nulls in 'tests_units' variable\n",
    "df[['continent', 'location', \n",
    "    'date', 'total_cases', \n",
    "    'tests_units']][df.tests_units.notnull()].location.value_counts()"
   ]
  },
  {
   "cell_type": "code",
   "execution_count": 16,
   "metadata": {
    "slideshow": {
     "slide_type": "skip"
    }
   },
   "outputs": [
    {
     "data": {
      "text/plain": [
       "266"
      ]
     },
     "execution_count": 16,
     "metadata": {},
     "output_type": "execute_result"
    }
   ],
   "source": [
    "# Let's check a specific example, e.g. 'Egypt'\n",
    "df[['continent', 'location', \n",
    "    'date', 'total_cases', \n",
    "    'tests_units']][df.tests_units.isnull()].location.value_counts()['Egypt']"
   ]
  },
  {
   "cell_type": "code",
   "execution_count": 17,
   "metadata": {
    "slideshow": {
     "slide_type": "skip"
    }
   },
   "outputs": [
    {
     "data": {
      "text/plain": [
       "266"
      ]
     },
     "execution_count": 17,
     "metadata": {},
     "output_type": "execute_result"
    }
   ],
   "source": [
    "# The total records for 'Egypt' in the data\n",
    "df.query('location == \"Egypt\"').shape[0]"
   ]
  },
  {
   "cell_type": "markdown",
   "metadata": {
    "slideshow": {
     "slide_type": "skip"
    }
   },
   "source": [
    "> Apparently, **Egypt** didn't report the test units at all."
   ]
  },
  {
   "cell_type": "markdown",
   "metadata": {
    "slideshow": {
     "slide_type": "skip"
    }
   },
   "source": [
    "## Numerical Descriptive\n",
    "\n",
    "[Back to Programmatic Assessment](#id_4_2)"
   ]
  },
  {
   "cell_type": "code",
   "execution_count": 18,
   "metadata": {
    "scrolled": true,
    "slideshow": {
     "slide_type": "skip"
    }
   },
   "outputs": [
    {
     "data": {
      "text/html": [
       "<div>\n",
       "<style scoped>\n",
       "    .dataframe tbody tr th:only-of-type {\n",
       "        vertical-align: middle;\n",
       "    }\n",
       "\n",
       "    .dataframe tbody tr th {\n",
       "        vertical-align: top;\n",
       "    }\n",
       "\n",
       "    .dataframe thead th {\n",
       "        text-align: right;\n",
       "    }\n",
       "</style>\n",
       "<table border=\"1\" class=\"dataframe\">\n",
       "  <thead>\n",
       "    <tr style=\"text-align: right;\">\n",
       "      <th></th>\n",
       "      <th>total_cases</th>\n",
       "      <th>new_cases</th>\n",
       "      <th>new_cases_smoothed</th>\n",
       "      <th>total_deaths</th>\n",
       "      <th>new_deaths</th>\n",
       "      <th>new_deaths_smoothed</th>\n",
       "      <th>total_cases_per_million</th>\n",
       "      <th>new_cases_per_million</th>\n",
       "      <th>new_cases_smoothed_per_million</th>\n",
       "      <th>total_deaths_per_million</th>\n",
       "      <th>...</th>\n",
       "      <th>gdp_per_capita</th>\n",
       "      <th>extreme_poverty</th>\n",
       "      <th>cardiovasc_death_rate</th>\n",
       "      <th>diabetes_prevalence</th>\n",
       "      <th>female_smokers</th>\n",
       "      <th>male_smokers</th>\n",
       "      <th>handwashing_facilities</th>\n",
       "      <th>hospital_beds_per_thousand</th>\n",
       "      <th>life_expectancy</th>\n",
       "      <th>human_development_index</th>\n",
       "    </tr>\n",
       "  </thead>\n",
       "  <tbody>\n",
       "    <tr>\n",
       "      <th>count</th>\n",
       "      <td>4.460400e+04</td>\n",
       "      <td>44402.000000</td>\n",
       "      <td>43620.000000</td>\n",
       "      <td>44604.000000</td>\n",
       "      <td>44402.000000</td>\n",
       "      <td>43620.000000</td>\n",
       "      <td>44338.000000</td>\n",
       "      <td>44338.000000</td>\n",
       "      <td>43555.000000</td>\n",
       "      <td>44338.000000</td>\n",
       "      <td>...</td>\n",
       "      <td>39808.000000</td>\n",
       "      <td>26566.000000</td>\n",
       "      <td>40339.000000</td>\n",
       "      <td>41752.000000</td>\n",
       "      <td>31640.000000</td>\n",
       "      <td>31241.000000</td>\n",
       "      <td>18842.000000</td>\n",
       "      <td>36469.000000</td>\n",
       "      <td>44377.000000</td>\n",
       "      <td>38916.000000</td>\n",
       "    </tr>\n",
       "    <tr>\n",
       "      <th>mean</th>\n",
       "      <td>9.561191e+04</td>\n",
       "      <td>1400.453538</td>\n",
       "      <td>1385.649364</td>\n",
       "      <td>3934.458658</td>\n",
       "      <td>43.302194</td>\n",
       "      <td>43.393174</td>\n",
       "      <td>1808.713858</td>\n",
       "      <td>23.793187</td>\n",
       "      <td>23.412846</td>\n",
       "      <td>55.916774</td>\n",
       "      <td>...</td>\n",
       "      <td>20964.168338</td>\n",
       "      <td>12.045562</td>\n",
       "      <td>251.390579</td>\n",
       "      <td>8.049011</td>\n",
       "      <td>10.830254</td>\n",
       "      <td>32.637041</td>\n",
       "      <td>52.554524</td>\n",
       "      <td>3.114481</td>\n",
       "      <td>74.047165</td>\n",
       "      <td>0.725437</td>\n",
       "    </tr>\n",
       "    <tr>\n",
       "      <th>std</th>\n",
       "      <td>9.901969e+05</td>\n",
       "      <td>12758.526118</td>\n",
       "      <td>12534.014214</td>\n",
       "      <td>36666.298922</td>\n",
       "      <td>366.111846</td>\n",
       "      <td>356.399303</td>\n",
       "      <td>3866.720711</td>\n",
       "      <td>72.650770</td>\n",
       "      <td>56.047698</td>\n",
       "      <td>141.380369</td>\n",
       "      <td>...</td>\n",
       "      <td>20458.865139</td>\n",
       "      <td>19.170498</td>\n",
       "      <td>117.605782</td>\n",
       "      <td>4.144042</td>\n",
       "      <td>10.481398</td>\n",
       "      <td>13.410410</td>\n",
       "      <td>31.583459</td>\n",
       "      <td>2.529736</td>\n",
       "      <td>7.365877</td>\n",
       "      <td>0.152698</td>\n",
       "    </tr>\n",
       "    <tr>\n",
       "      <th>min</th>\n",
       "      <td>0.000000e+00</td>\n",
       "      <td>-8261.000000</td>\n",
       "      <td>-552.000000</td>\n",
       "      <td>0.000000</td>\n",
       "      <td>-1918.000000</td>\n",
       "      <td>-232.143000</td>\n",
       "      <td>0.000000</td>\n",
       "      <td>-2212.545000</td>\n",
       "      <td>-269.978000</td>\n",
       "      <td>0.000000</td>\n",
       "      <td>...</td>\n",
       "      <td>661.240000</td>\n",
       "      <td>0.100000</td>\n",
       "      <td>79.370000</td>\n",
       "      <td>0.990000</td>\n",
       "      <td>0.100000</td>\n",
       "      <td>7.700000</td>\n",
       "      <td>1.188000</td>\n",
       "      <td>0.100000</td>\n",
       "      <td>53.280000</td>\n",
       "      <td>0.354000</td>\n",
       "    </tr>\n",
       "    <tr>\n",
       "      <th>25%</th>\n",
       "      <td>5.500000e+01</td>\n",
       "      <td>0.000000</td>\n",
       "      <td>0.571000</td>\n",
       "      <td>0.000000</td>\n",
       "      <td>0.000000</td>\n",
       "      <td>0.000000</td>\n",
       "      <td>26.430500</td>\n",
       "      <td>0.000000</td>\n",
       "      <td>0.128000</td>\n",
       "      <td>0.000000</td>\n",
       "      <td>...</td>\n",
       "      <td>5338.454000</td>\n",
       "      <td>0.500000</td>\n",
       "      <td>155.898000</td>\n",
       "      <td>5.310000</td>\n",
       "      <td>1.900000</td>\n",
       "      <td>21.400000</td>\n",
       "      <td>21.222000</td>\n",
       "      <td>1.300000</td>\n",
       "      <td>69.910000</td>\n",
       "      <td>0.606000</td>\n",
       "    </tr>\n",
       "    <tr>\n",
       "      <th>50%</th>\n",
       "      <td>9.580000e+02</td>\n",
       "      <td>10.000000</td>\n",
       "      <td>14.286000</td>\n",
       "      <td>18.000000</td>\n",
       "      <td>0.000000</td>\n",
       "      <td>0.143000</td>\n",
       "      <td>269.113500</td>\n",
       "      <td>1.494500</td>\n",
       "      <td>2.884000</td>\n",
       "      <td>4.615000</td>\n",
       "      <td>...</td>\n",
       "      <td>14103.452000</td>\n",
       "      <td>1.800000</td>\n",
       "      <td>238.339000</td>\n",
       "      <td>7.110000</td>\n",
       "      <td>6.400000</td>\n",
       "      <td>31.400000</td>\n",
       "      <td>55.182000</td>\n",
       "      <td>2.500000</td>\n",
       "      <td>75.490000</td>\n",
       "      <td>0.755000</td>\n",
       "    </tr>\n",
       "    <tr>\n",
       "      <th>75%</th>\n",
       "      <td>1.021800e+04</td>\n",
       "      <td>157.000000</td>\n",
       "      <td>162.714000</td>\n",
       "      <td>219.000000</td>\n",
       "      <td>3.000000</td>\n",
       "      <td>3.000000</td>\n",
       "      <td>1818.945000</td>\n",
       "      <td>16.790250</td>\n",
       "      <td>18.445500</td>\n",
       "      <td>34.263500</td>\n",
       "      <td>...</td>\n",
       "      <td>32415.132000</td>\n",
       "      <td>16.000000</td>\n",
       "      <td>318.949000</td>\n",
       "      <td>10.180000</td>\n",
       "      <td>19.600000</td>\n",
       "      <td>40.900000</td>\n",
       "      <td>83.741000</td>\n",
       "      <td>4.200000</td>\n",
       "      <td>79.930000</td>\n",
       "      <td>0.853000</td>\n",
       "    </tr>\n",
       "    <tr>\n",
       "      <th>max</th>\n",
       "      <td>3.109147e+07</td>\n",
       "      <td>314666.000000</td>\n",
       "      <td>290111.143000</td>\n",
       "      <td>961352.000000</td>\n",
       "      <td>10491.000000</td>\n",
       "      <td>7456.714000</td>\n",
       "      <td>42823.128000</td>\n",
       "      <td>4944.376000</td>\n",
       "      <td>882.924000</td>\n",
       "      <td>1237.551000</td>\n",
       "      <td>...</td>\n",
       "      <td>116935.600000</td>\n",
       "      <td>77.600000</td>\n",
       "      <td>724.417000</td>\n",
       "      <td>23.360000</td>\n",
       "      <td>44.000000</td>\n",
       "      <td>78.100000</td>\n",
       "      <td>98.999000</td>\n",
       "      <td>13.800000</td>\n",
       "      <td>86.750000</td>\n",
       "      <td>0.953000</td>\n",
       "    </tr>\n",
       "  </tbody>\n",
       "</table>\n",
       "<p>8 rows × 36 columns</p>\n",
       "</div>"
      ],
      "text/plain": [
       "        total_cases      new_cases  new_cases_smoothed   total_deaths  \\\n",
       "count  4.460400e+04   44402.000000        43620.000000   44604.000000   \n",
       "mean   9.561191e+04    1400.453538         1385.649364    3934.458658   \n",
       "std    9.901969e+05   12758.526118        12534.014214   36666.298922   \n",
       "min    0.000000e+00   -8261.000000         -552.000000       0.000000   \n",
       "25%    5.500000e+01       0.000000            0.571000       0.000000   \n",
       "50%    9.580000e+02      10.000000           14.286000      18.000000   \n",
       "75%    1.021800e+04     157.000000          162.714000     219.000000   \n",
       "max    3.109147e+07  314666.000000       290111.143000  961352.000000   \n",
       "\n",
       "         new_deaths  new_deaths_smoothed  total_cases_per_million  \\\n",
       "count  44402.000000         43620.000000             44338.000000   \n",
       "mean      43.302194            43.393174              1808.713858   \n",
       "std      366.111846           356.399303              3866.720711   \n",
       "min    -1918.000000          -232.143000                 0.000000   \n",
       "25%        0.000000             0.000000                26.430500   \n",
       "50%        0.000000             0.143000               269.113500   \n",
       "75%        3.000000             3.000000              1818.945000   \n",
       "max    10491.000000          7456.714000             42823.128000   \n",
       "\n",
       "       new_cases_per_million  new_cases_smoothed_per_million  \\\n",
       "count           44338.000000                    43555.000000   \n",
       "mean               23.793187                       23.412846   \n",
       "std                72.650770                       56.047698   \n",
       "min             -2212.545000                     -269.978000   \n",
       "25%                 0.000000                        0.128000   \n",
       "50%                 1.494500                        2.884000   \n",
       "75%                16.790250                       18.445500   \n",
       "max              4944.376000                      882.924000   \n",
       "\n",
       "       total_deaths_per_million  ...  gdp_per_capita  extreme_poverty  \\\n",
       "count              44338.000000  ...    39808.000000     26566.000000   \n",
       "mean                  55.916774  ...    20964.168338        12.045562   \n",
       "std                  141.380369  ...    20458.865139        19.170498   \n",
       "min                    0.000000  ...      661.240000         0.100000   \n",
       "25%                    0.000000  ...     5338.454000         0.500000   \n",
       "50%                    4.615000  ...    14103.452000         1.800000   \n",
       "75%                   34.263500  ...    32415.132000        16.000000   \n",
       "max                 1237.551000  ...   116935.600000        77.600000   \n",
       "\n",
       "       cardiovasc_death_rate  diabetes_prevalence  female_smokers  \\\n",
       "count           40339.000000         41752.000000    31640.000000   \n",
       "mean              251.390579             8.049011       10.830254   \n",
       "std               117.605782             4.144042       10.481398   \n",
       "min                79.370000             0.990000        0.100000   \n",
       "25%               155.898000             5.310000        1.900000   \n",
       "50%               238.339000             7.110000        6.400000   \n",
       "75%               318.949000            10.180000       19.600000   \n",
       "max               724.417000            23.360000       44.000000   \n",
       "\n",
       "       male_smokers  handwashing_facilities  hospital_beds_per_thousand  \\\n",
       "count  31241.000000            18842.000000                36469.000000   \n",
       "mean      32.637041               52.554524                    3.114481   \n",
       "std       13.410410               31.583459                    2.529736   \n",
       "min        7.700000                1.188000                    0.100000   \n",
       "25%       21.400000               21.222000                    1.300000   \n",
       "50%       31.400000               55.182000                    2.500000   \n",
       "75%       40.900000               83.741000                    4.200000   \n",
       "max       78.100000               98.999000                   13.800000   \n",
       "\n",
       "       life_expectancy  human_development_index  \n",
       "count     44377.000000             38916.000000  \n",
       "mean         74.047165                 0.725437  \n",
       "std           7.365877                 0.152698  \n",
       "min          53.280000                 0.354000  \n",
       "25%          69.910000                 0.606000  \n",
       "50%          75.490000                 0.755000  \n",
       "75%          79.930000                 0.853000  \n",
       "max          86.750000                 0.953000  \n",
       "\n",
       "[8 rows x 36 columns]"
      ]
     },
     "execution_count": 18,
     "metadata": {},
     "output_type": "execute_result"
    }
   ],
   "source": [
    "df.describe()"
   ]
  },
  {
   "cell_type": "markdown",
   "metadata": {
    "slideshow": {
     "slide_type": "skip"
    }
   },
   "source": [
    "> **Note:** There are some negative values for `min` stats, e.g. in new_cases, new_deaths, etc. Let's investigate this further."
   ]
  },
  {
   "cell_type": "code",
   "execution_count": 19,
   "metadata": {
    "slideshow": {
     "slide_type": "skip"
    }
   },
   "outputs": [
    {
     "data": {
      "text/plain": [
       "new_cases                         -8261.000\n",
       "new_cases_smoothed                 -552.000\n",
       "new_deaths                        -1918.000\n",
       "new_deaths_smoothed                -232.143\n",
       "new_cases_per_million             -2212.545\n",
       "new_cases_smoothed_per_million     -269.978\n",
       "new_deaths_per_million              -67.901\n",
       "new_deaths_smoothed_per_million      -9.678\n",
       "new_tests                         -3743.000\n",
       "new_tests_per_thousand               -0.398\n",
       "Name: min, dtype: float64"
      ]
     },
     "execution_count": 19,
     "metadata": {},
     "output_type": "execute_result"
    }
   ],
   "source": [
    "# Getting only 'min' stats from describe function\n",
    "describe_min = df.describe().loc['min']\n",
    "\n",
    "# Displaying the negative values\n",
    "describe_min[describe_min < 0]"
   ]
  },
  {
   "cell_type": "markdown",
   "metadata": {
    "slideshow": {
     "slide_type": "skip"
    }
   },
   "source": [
    "> **Note:** According to the [Data Sources](https://github.com/owid/covid-19-data/tree/master/public/data#our-data-sources), `the number of cases or deaths reported by any institutions on a given day does not necessarily represent the actual number on that date. This is because of the long reporting chain that exists between a new case/death and its inclusion in statistics.`\n",
    "> \n",
    "> `This also means that negative values in cases and deaths can sometimes appear when a country sends a correction to the ECDC, because it had previously overestimated the number of cases/deaths. Alternatively, large changes can sometimes (although rarely) be made to a country's entire time series if the ECDC decides (and has access to the necessary data) to correct values retrospectively.`\n",
    ">\n",
    "> That explains the negative values in the data, thus **no cleaning** needed."
   ]
  },
  {
   "cell_type": "markdown",
   "metadata": {
    "slideshow": {
     "slide_type": "skip"
    }
   },
   "source": [
    "## Stringency Index Distribution\n",
    "\n",
    "[Back to Programmatic Assessment](#id_4_2)"
   ]
  },
  {
   "cell_type": "code",
   "execution_count": 20,
   "metadata": {
    "scrolled": false,
    "slideshow": {
     "slide_type": "skip"
    }
   },
   "outputs": [
    {
     "data": {
      "image/png": "[encoded data removed]",
      "text/plain": [
       "<Figure size 1000x400 with 1 Axes>"
      ]
     },
     "metadata": {},
     "output_type": "display_data"
    }
   ],
   "source": [
    "bins = np.arange(0, 100+5, 5)\n",
    "\n",
    "plt.hist(df['stringency_index'], bins=bins)\n",
    "\n",
    "plt.xlabel('Stringency Index')\n",
    "plt.ylabel('Frequency');"
   ]
  },
  {
   "cell_type": "markdown",
   "metadata": {
    "slideshow": {
     "slide_type": "skip"
    }
   },
   "source": [
    "## Daily Cases Distribution per Continent\n",
    "\n",
    "[Back to Programmatic Assessment](#id_4_2)"
   ]
  },
  {
   "cell_type": "code",
   "execution_count": 21,
   "metadata": {
    "scrolled": false
   },
   "outputs": [
    {
     "data": {
      "image/png": "[encoded data removed]",
      "text/plain": [
       "<Figure size 1000x2000 with 5 Axes>"
      ]
     },
     "metadata": {},
     "output_type": "display_data"
    }
   ],
   "source": [
    "# Subsetting the data\n",
    "cont_cases = df[['continent', 'date', 'new_cases']].groupby(['continent', 'date']).sum().reset_index()\n",
    "\n",
    "# Drop dates beforew (2019-12-31) and 'Oceania' records (different y scale)\n",
    "cont_cases_no_o = cont_cases[(cont_cases['date'] > '2019-12-31') &\n",
    "                             (cont_cases['continent'] != 'Oceania')].reset_index(drop=True)\n",
    "\n",
    "# Creating function to plot each continent daily cases after mapping it to a FacetGrid object\n",
    "def new_cases_scatter(x, y, **kwargs):\n",
    "    plt.scatter(x, y, alpha=1/3)\n",
    "    \n",
    "    curr_xticks = plt.xticks()[0] # Getting current x ticks postions\n",
    "    tick_width = len(curr_xticks) / 10 # Setting xticks width\n",
    "    xticks = np.arange(np.array(curr_xticks).min(), np.array(curr_xticks).max(), tick_width) # Generating new xticks\n",
    "    \n",
    "    xticklabels = ['Jan', 'Feb', 'Mar', 'Apr', 'May', 'Jun', 'Jul', 'Aug', 'Sep', 'Oct'] # Setting xticks labels\n",
    "    plt.xticks(ticks = xticks, labels = xticklabels);\n",
    "\n",
    "# Creating FacetGrid Class\n",
    "g = sb.FacetGrid(data = cont_cases_no_o, row = 'continent', height=4, aspect=2.5) # Create FacetGrid class\n",
    "g.map(new_cases_scatter, 'date', 'new_cases');"
   ]
  },
  {
   "cell_type": "markdown",
   "metadata": {},
   "source": [
    "## Daily Cases Distribution for Oceania\n",
    "\n",
    "[Back to Programmatic Assessment](#id_4_2)"
   ]
  },
  {
   "cell_type": "code",
   "execution_count": 22,
   "metadata": {
    "scrolled": false
   },
   "outputs": [
    {
     "data": {
      "image/png": "[encoded data removed]",
      "text/plain": [
       "<Figure size 1000x400 with 1 Axes>"
      ]
     },
     "metadata": {},
     "output_type": "display_data"
    }
   ],
   "source": [
    "# Scatter plot with 'Oceania' continent \n",
    "cont_cases_o = cont_cases[cont_cases['continent'] == 'Oceania'].reset_index(drop=True)\n",
    "\n",
    "# Creating scatter plot to visual new cases in Oceania\n",
    "new_cases_scatter(cont_cases_o['date'], cont_cases_o['new_cases'])\n",
    "\n",
    "plt.xlabel('date'), plt.ylabel('new cases');"
   ]
  },
  {
   "cell_type": "markdown",
   "metadata": {
    "slideshow": {
     "slide_type": "skip"
    }
   },
   "source": [
    "<a id=\"id_4_3\"></a>\n",
    "# [Assessment Docummentions](#id_4_3)\n",
    "\n",
    "Let's seperate our docummentions by data issue types:\n",
    "\n",
    "<a id=\"id_4_3_1\"></a>\n",
    "## [Quality Issues](#id_4_3_1)\n",
    "- The name of variable `location`.\n",
    "- Variable `iso_code` name.\n",
    "- Variable `tests_units` name.\n",
    "- Variable `date` data type.\n",
    "- Variables like `continent` and `tests_units` can be categorical data type.\n",
    "- Values in variable `tests_units` (Uppercase). \n",
    "- Missing values in `iso_code`.\n",
    "\n",
    "<a id=\"id_4_3_2\"></a>\n",
    "## [Tidiness Issues](#id_4_3_2)\n",
    "- This dataset has multi-observational units, thus it can be divided into multi-tables:\n",
    "    - **country:** \n",
    "        - contains variables `iso_code`, `continent` and `location`.\n",
    "    - **corona:** \n",
    "        - contains `iso_code` and variables from `total_cases` to `stringency_index`.\n",
    "    - **economy:**\n",
    "        - contains variables `iso_code`, `gdp_per_capita` and `extreme_poverty`\n",
    "    - **pop:**\n",
    "        - contains variables `iso_code`, `population`, `population_density`, `median_age`, `aged_65_older` and `aged_70_older`.\n",
    "    - **healthcare:**\n",
    "        - contains `iso_code` and variables from `cardiovasc_death_rate` to `hospital_beds_per_thousand`.\n",
    "    - **social:**\n",
    "        - contains variables `iso_code`, `life_expectancy` and `human_development_index`.\n",
    "\n",
    "[Back to Assessing Data](#id_4)<br>\n",
    "[Advance to Data Cleaning Process](#id_5)"
   ]
  },
  {
   "cell_type": "markdown",
   "metadata": {
    "slideshow": {
     "slide_type": "skip"
    }
   },
   "source": [
    "<a id=\"id_4_4\"></a>\n",
    "> ### [So Far, So Good](#id_4_4)\n",
    ">After we have `assessed` the dataset **manually** and **programmatically**, we're ready for the final step in Data Wrangling, [**Cleaning Data**](#id_5). And we are closer by one step our to reach [**Our Goal**](#id_1_4).<br>\n",
    ">- [X] Gathering\n",
    ">- [X] Assessing\n",
    ">- [ ] Cleaning\n",
    ">- [ ] Storing\n",
    ">- [ ] Analyzing\n",
    ">- [ ] Visualizing\n",
    ">- [ ] Reporting\n",
    ">\n",
    "> [Back to Assessing Data](#id_4)"
   ]
  },
  {
   "cell_type": "markdown",
   "metadata": {
    "slideshow": {
     "slide_type": "skip"
    }
   },
   "source": [
    "<a id=\"id_5\"></a>\n",
    "<h1 style=\"font-size:30px; color:#3A71AE\">Cleaning Data</h1>\n",
    "\n",
    "[Cleaning Data](https://en.wikipedia.org/wiki/Data_cleansing) is the final step in Data Wrangling. It's the process of correcting (or removing) corrupt or inaccurate records from a record set, table, or database through replacing, modifying, or deleting the dirty.\n",
    "\n",
    "### Data Cleaning Types:\n",
    "Cleaning data can be done via two ways `manually` (inefficient, time consuming and error prone) and `programmatically` (for issues that occur more than one-time ).\n",
    "\n",
    "### Data Cleaning Steps :\n",
    "- `Define` is using verbs in order to call an action to fix the issue we observed.\n",
    "- `Code` is doing the action.\n",
    "- `Test` is assess whether it worked or not.\n",
    "\n",
    "### Data Cleaning Process:\n",
    "1. [**Data Copying**](#id_5_1)\n",
    "2. [**Missing Values**](#id_5_2)\n",
    "3. [**Cleaning for Quality**](#id_5_3)\n",
    "4. [**Cleaning for Tidiness**](#id_5_4)\n",
    "\n",
    "[Back to Top](#top)<br>\n",
    "[Back to Assessment Docummention](#id_4_3)"
   ]
  },
  {
   "cell_type": "markdown",
   "metadata": {
    "slideshow": {
     "slide_type": "skip"
    }
   },
   "source": [
    "<a id=\"id_5_1\"></a>\n",
    "## [Data Copying](#id_5_1)\n",
    "**Note:** Do not forget to copy each table before starting **Cleaning** phase, so, we can easily back to the original table of need.\n",
    "\n",
    "Copying each dataframe using [DataFrame.copy](https://pandas.pydata.org/pandas-docs/stable/reference/api/pandas.DataFrame.copy.html)\n",
    "\n",
    "[Back to Cleaning Data](#id_5)"
   ]
  },
  {
   "cell_type": "code",
   "execution_count": 23,
   "metadata": {
    "slideshow": {
     "slide_type": "skip"
    }
   },
   "outputs": [
    {
     "data": {
      "text/html": [
       "<div>\n",
       "<style scoped>\n",
       "    .dataframe tbody tr th:only-of-type {\n",
       "        vertical-align: middle;\n",
       "    }\n",
       "\n",
       "    .dataframe tbody tr th {\n",
       "        vertical-align: top;\n",
       "    }\n",
       "\n",
       "    .dataframe thead th {\n",
       "        text-align: right;\n",
       "    }\n",
       "</style>\n",
       "<table border=\"1\" class=\"dataframe\">\n",
       "  <thead>\n",
       "    <tr style=\"text-align: right;\">\n",
       "      <th></th>\n",
       "      <th>iso_code</th>\n",
       "      <th>continent</th>\n",
       "      <th>location</th>\n",
       "      <th>date</th>\n",
       "      <th>total_cases</th>\n",
       "      <th>new_cases</th>\n",
       "      <th>new_cases_smoothed</th>\n",
       "      <th>total_deaths</th>\n",
       "      <th>new_deaths</th>\n",
       "      <th>new_deaths_smoothed</th>\n",
       "      <th>...</th>\n",
       "      <th>gdp_per_capita</th>\n",
       "      <th>extreme_poverty</th>\n",
       "      <th>cardiovasc_death_rate</th>\n",
       "      <th>diabetes_prevalence</th>\n",
       "      <th>female_smokers</th>\n",
       "      <th>male_smokers</th>\n",
       "      <th>handwashing_facilities</th>\n",
       "      <th>hospital_beds_per_thousand</th>\n",
       "      <th>life_expectancy</th>\n",
       "      <th>human_development_index</th>\n",
       "    </tr>\n",
       "  </thead>\n",
       "  <tbody>\n",
       "    <tr>\n",
       "      <th>0</th>\n",
       "      <td>ABW</td>\n",
       "      <td>North America</td>\n",
       "      <td>Aruba</td>\n",
       "      <td>2020-03-13</td>\n",
       "      <td>2.0</td>\n",
       "      <td>2.0</td>\n",
       "      <td>NaN</td>\n",
       "      <td>0.0</td>\n",
       "      <td>0.0</td>\n",
       "      <td>NaN</td>\n",
       "      <td>...</td>\n",
       "      <td>35973.781</td>\n",
       "      <td>NaN</td>\n",
       "      <td>NaN</td>\n",
       "      <td>11.62</td>\n",
       "      <td>NaN</td>\n",
       "      <td>NaN</td>\n",
       "      <td>NaN</td>\n",
       "      <td>NaN</td>\n",
       "      <td>76.29</td>\n",
       "      <td>NaN</td>\n",
       "    </tr>\n",
       "    <tr>\n",
       "      <th>1</th>\n",
       "      <td>ABW</td>\n",
       "      <td>North America</td>\n",
       "      <td>Aruba</td>\n",
       "      <td>2020-03-19</td>\n",
       "      <td>NaN</td>\n",
       "      <td>NaN</td>\n",
       "      <td>0.286</td>\n",
       "      <td>NaN</td>\n",
       "      <td>NaN</td>\n",
       "      <td>0.0</td>\n",
       "      <td>...</td>\n",
       "      <td>35973.781</td>\n",
       "      <td>NaN</td>\n",
       "      <td>NaN</td>\n",
       "      <td>11.62</td>\n",
       "      <td>NaN</td>\n",
       "      <td>NaN</td>\n",
       "      <td>NaN</td>\n",
       "      <td>NaN</td>\n",
       "      <td>76.29</td>\n",
       "      <td>NaN</td>\n",
       "    </tr>\n",
       "    <tr>\n",
       "      <th>2</th>\n",
       "      <td>ABW</td>\n",
       "      <td>North America</td>\n",
       "      <td>Aruba</td>\n",
       "      <td>2020-03-20</td>\n",
       "      <td>4.0</td>\n",
       "      <td>2.0</td>\n",
       "      <td>0.286</td>\n",
       "      <td>0.0</td>\n",
       "      <td>0.0</td>\n",
       "      <td>0.0</td>\n",
       "      <td>...</td>\n",
       "      <td>35973.781</td>\n",
       "      <td>NaN</td>\n",
       "      <td>NaN</td>\n",
       "      <td>11.62</td>\n",
       "      <td>NaN</td>\n",
       "      <td>NaN</td>\n",
       "      <td>NaN</td>\n",
       "      <td>NaN</td>\n",
       "      <td>76.29</td>\n",
       "      <td>NaN</td>\n",
       "    </tr>\n",
       "    <tr>\n",
       "      <th>3</th>\n",
       "      <td>ABW</td>\n",
       "      <td>North America</td>\n",
       "      <td>Aruba</td>\n",
       "      <td>2020-03-21</td>\n",
       "      <td>NaN</td>\n",
       "      <td>NaN</td>\n",
       "      <td>0.286</td>\n",
       "      <td>NaN</td>\n",
       "      <td>NaN</td>\n",
       "      <td>0.0</td>\n",
       "      <td>...</td>\n",
       "      <td>35973.781</td>\n",
       "      <td>NaN</td>\n",
       "      <td>NaN</td>\n",
       "      <td>11.62</td>\n",
       "      <td>NaN</td>\n",
       "      <td>NaN</td>\n",
       "      <td>NaN</td>\n",
       "      <td>NaN</td>\n",
       "      <td>76.29</td>\n",
       "      <td>NaN</td>\n",
       "    </tr>\n",
       "    <tr>\n",
       "      <th>4</th>\n",
       "      <td>ABW</td>\n",
       "      <td>North America</td>\n",
       "      <td>Aruba</td>\n",
       "      <td>2020-03-22</td>\n",
       "      <td>NaN</td>\n",
       "      <td>NaN</td>\n",
       "      <td>0.286</td>\n",
       "      <td>NaN</td>\n",
       "      <td>NaN</td>\n",
       "      <td>0.0</td>\n",
       "      <td>...</td>\n",
       "      <td>35973.781</td>\n",
       "      <td>NaN</td>\n",
       "      <td>NaN</td>\n",
       "      <td>11.62</td>\n",
       "      <td>NaN</td>\n",
       "      <td>NaN</td>\n",
       "      <td>NaN</td>\n",
       "      <td>NaN</td>\n",
       "      <td>76.29</td>\n",
       "      <td>NaN</td>\n",
       "    </tr>\n",
       "  </tbody>\n",
       "</table>\n",
       "<p>5 rows × 41 columns</p>\n",
       "</div>"
      ],
      "text/plain": [
       "  iso_code      continent location        date  total_cases  new_cases  \\\n",
       "0      ABW  North America    Aruba  2020-03-13          2.0        2.0   \n",
       "1      ABW  North America    Aruba  2020-03-19          NaN        NaN   \n",
       "2      ABW  North America    Aruba  2020-03-20          4.0        2.0   \n",
       "3      ABW  North America    Aruba  2020-03-21          NaN        NaN   \n",
       "4      ABW  North America    Aruba  2020-03-22          NaN        NaN   \n",
       "\n",
       "   new_cases_smoothed  total_deaths  new_deaths  new_deaths_smoothed  ...  \\\n",
       "0                 NaN           0.0         0.0                  NaN  ...   \n",
       "1               0.286           NaN         NaN                  0.0  ...   \n",
       "2               0.286           0.0         0.0                  0.0  ...   \n",
       "3               0.286           NaN         NaN                  0.0  ...   \n",
       "4               0.286           NaN         NaN                  0.0  ...   \n",
       "\n",
       "   gdp_per_capita  extreme_poverty  cardiovasc_death_rate  \\\n",
       "0       35973.781              NaN                    NaN   \n",
       "1       35973.781              NaN                    NaN   \n",
       "2       35973.781              NaN                    NaN   \n",
       "3       35973.781              NaN                    NaN   \n",
       "4       35973.781              NaN                    NaN   \n",
       "\n",
       "   diabetes_prevalence  female_smokers  male_smokers  handwashing_facilities  \\\n",
       "0                11.62             NaN           NaN                     NaN   \n",
       "1                11.62             NaN           NaN                     NaN   \n",
       "2                11.62             NaN           NaN                     NaN   \n",
       "3                11.62             NaN           NaN                     NaN   \n",
       "4                11.62             NaN           NaN                     NaN   \n",
       "\n",
       "   hospital_beds_per_thousand  life_expectancy  human_development_index  \n",
       "0                         NaN            76.29                      NaN  \n",
       "1                         NaN            76.29                      NaN  \n",
       "2                         NaN            76.29                      NaN  \n",
       "3                         NaN            76.29                      NaN  \n",
       "4                         NaN            76.29                      NaN  \n",
       "\n",
       "[5 rows x 41 columns]"
      ]
     },
     "execution_count": 23,
     "metadata": {},
     "output_type": "execute_result"
    }
   ],
   "source": [
    "df_copy = df.copy()\n",
    "df_copy.head()"
   ]
  },
  {
   "cell_type": "markdown",
   "metadata": {
    "slideshow": {
     "slide_type": "skip"
    }
   },
   "source": [
    "<a id=\"id_5_2\"></a>\n",
    "## [Missing Values](#id_5_2)\n",
    "As I discussed above the missing values in this dataset are due to its nature, thus, no further action is needed.\n",
    "\n",
    "[Back to Cleaning Data](#id_5)<br>\n",
    "[Back to Assessment Docummentions](#id_4_3)"
   ]
  },
  {
   "cell_type": "markdown",
   "metadata": {
    "slideshow": {
     "slide_type": "skip"
    }
   },
   "source": [
    "<a id=\"id_5_3\"></a>\n",
    "## [Cleaning for Quality](#id_5_3)\n",
    "Now it's time to clean the dirty table!!\n",
    "1. [**Variables Location, Iso Code and Test Units Names**](#id_5_3_1)\n",
    "2. [**Variable Date Data Type**](#id_5_3_2)\n",
    "3. [**Variable Test Units Values**](#id_5_3_3)\n",
    "4. [**Variables Continent and Tests Unit Data Type**](#id_5_3_4)\n",
    "5. [**Iso Code Missing Values**](#id_5_3_5)\n",
    "\n",
    "[Back to Cleaning Data](#id_5)<br>\n",
    "[Back to Assessment Docummentions](#id_4_3)"
   ]
  },
  {
   "cell_type": "markdown",
   "metadata": {
    "slideshow": {
     "slide_type": "skip"
    }
   },
   "source": [
    "<a id=\"id_5_3_1\"></a>\n",
    "### [Variables Location, Iso Code and Test Units Names](#id_5_3_1)\n",
    "[Define](#id_5_3_1_1) [Code](#id_5_3_1_2) [Test](#id_5_3_1_3)\n",
    "\n",
    "[Back to Cleaning for Quality](#id_5_3)<br>\n",
    "[Back to Docummentions](#id_4_3_1)"
   ]
  },
  {
   "cell_type": "markdown",
   "metadata": {
    "slideshow": {
     "slide_type": "skip"
    }
   },
   "source": [
    "<a id=\"id_5_3_1_1\"></a>\n",
    "#### [Define](#id_5_3_1_1)\n",
    "Change Variables names using `replace` function:\n",
    "- **iso_code:** country_code\n",
    "- **location:** country_name\n",
    "- **tests_units:** test_units\n",
    "\n",
    "[Back](#id_5_3_1)"
   ]
  },
  {
   "cell_type": "markdown",
   "metadata": {
    "slideshow": {
     "slide_type": "skip"
    }
   },
   "source": [
    "<a id=\"id_5_3_1_2\"></a>\n",
    "#### [Code](#id_5_3_1_2)\n",
    "[Back](#id_5_3_1)"
   ]
  },
  {
   "cell_type": "code",
   "execution_count": 24,
   "metadata": {
    "slideshow": {
     "slide_type": "skip"
    }
   },
   "outputs": [],
   "source": [
    "# Creating a dictionary for the old and new names\n",
    "new_names = {\"iso_code\"   : \"country_code\",\n",
    "             \"location\"   : \"country_name\",\n",
    "             \"tests_units\": \"test_units\"}\n",
    "\n",
    "# Replcae old names with new names\n",
    "df_copy.columns = pd.Series(df_copy.columns).replace(new_names).values"
   ]
  },
  {
   "cell_type": "markdown",
   "metadata": {
    "slideshow": {
     "slide_type": "skip"
    }
   },
   "source": [
    "<a id=\"id_5_3_1_3\"></a>\n",
    "#### [Test](#id_5_3_1_3)\n",
    "[Back](#id_5_3_1)"
   ]
  },
  {
   "cell_type": "code",
   "execution_count": 25,
   "metadata": {
    "slideshow": {
     "slide_type": "skip"
    }
   },
   "outputs": [],
   "source": [
    "# Check if the new names are in the column names\n",
    "assert pd.Series([\"country_code\", \"country_name\", \"test_units\"]).isin(df_copy.columns).all()"
   ]
  },
  {
   "cell_type": "markdown",
   "metadata": {
    "slideshow": {
     "slide_type": "skip"
    }
   },
   "source": [
    "<a id=\"id_5_3_2\"></a>\n",
    "### [Variable Date Data Type](#id_5_3_2)\n",
    "[Define](#id_5_3_2_1) [Code](#id_5_3_2_2) [Test](#id_5_3_2_3)\n",
    "\n",
    "[Back to Cleaning for Quality](#id_5_3)<br>\n",
    "[Back to Docummentions](#id_4_3_1)"
   ]
  },
  {
   "cell_type": "markdown",
   "metadata": {
    "slideshow": {
     "slide_type": "skip"
    }
   },
   "source": [
    "<a id=\"id_5_3_2_1\"></a>\n",
    "#### [Define](#id_5_3_2_1)\n",
    "Change data type for variable `date` from `object` to `datetime` using `to_datetime` method.\n",
    "\n",
    "[Back](#id_5_3_2)"
   ]
  },
  {
   "cell_type": "markdown",
   "metadata": {
    "slideshow": {
     "slide_type": "skip"
    }
   },
   "source": [
    "<a id=\"id_5_3_2_2\"></a>\n",
    "#### [Code](#id_5_3_2_2)\n",
    "[Back](#id_5_3_2)"
   ]
  },
  {
   "cell_type": "code",
   "execution_count": 26,
   "metadata": {
    "slideshow": {
     "slide_type": "skip"
    }
   },
   "outputs": [],
   "source": [
    "# Create category to set 'date' data type to datetime\n",
    "def set_datetime_type(df):\n",
    "    df['date'] = pd.to_datetime(df['date'])\n",
    "set_datetime_type(df_copy)"
   ]
  },
  {
   "cell_type": "markdown",
   "metadata": {
    "slideshow": {
     "slide_type": "skip"
    }
   },
   "source": [
    "<a id=\"id_5_3_2_3\"></a>\n",
    "#### [Test](#id_5_3_2_3)\n",
    "[Back](#id_5_3_2)"
   ]
  },
  {
   "cell_type": "code",
   "execution_count": 27,
   "metadata": {
    "slideshow": {
     "slide_type": "skip"
    }
   },
   "outputs": [
    {
     "data": {
      "text/plain": [
       "0       2020-03-13\n",
       "1       2020-03-19\n",
       "2       2020-03-20\n",
       "3       2020-03-21\n",
       "4       2020-03-22\n",
       "           ...    \n",
       "45202   2020-09-17\n",
       "45203   2020-09-18\n",
       "45204   2020-09-19\n",
       "45205   2020-09-20\n",
       "45206   2020-09-21\n",
       "Name: date, Length: 45207, dtype: datetime64[ns]"
      ]
     },
     "execution_count": 27,
     "metadata": {},
     "output_type": "execute_result"
    }
   ],
   "source": [
    "df_copy.date"
   ]
  },
  {
   "cell_type": "markdown",
   "metadata": {
    "slideshow": {
     "slide_type": "skip"
    }
   },
   "source": [
    "<a id=\"id_5_3_3\"></a>\n",
    "### [Variable Test Units Values](id_5_3_3)\n",
    "[Define](#id_5_3_3_1) [Code](#id_5_3_3_2) [Test](#id_5_3_3_3)\n",
    "\n",
    "[Back to Cleaning for Quality](#id_5_3)<br>\n",
    "[Back to Docummentions](#id_4_3_1)"
   ]
  },
  {
   "cell_type": "markdown",
   "metadata": {
    "slideshow": {
     "slide_type": "skip"
    }
   },
   "source": [
    "<a id=\"id_5_3_3_1\"></a>\n",
    "#### [Define](#id_5_3_3_1)\n",
    "Modify `test_units` values to be in title format instead of lowercase using `title` method and `lambda` function.\n",
    "\n",
    "[Back](#id_5_3_3)"
   ]
  },
  {
   "cell_type": "markdown",
   "metadata": {
    "slideshow": {
     "slide_type": "skip"
    }
   },
   "source": [
    "<a id=\"id_5_3_3_2\"></a>\n",
    "#### [Code](#id_5_3_3_2)\n",
    "[Back](#id_5_3_3)"
   ]
  },
  {
   "cell_type": "code",
   "execution_count": 28,
   "metadata": {
    "slideshow": {
     "slide_type": "skip"
    }
   },
   "outputs": [],
   "source": [
    "# Modifying 'Test Units' values\n",
    "df_copy.test_units = df_copy.test_units.apply(lambda x: \"People Tested (Incl. non-PCR)\"\n",
    "                                                              if x == \"people tested (incl. non-PCR)\"\n",
    "                                                                      else(x.title() if type(x) != float \n",
    "                                                                               else(x)))"
   ]
  },
  {
   "cell_type": "markdown",
   "metadata": {
    "slideshow": {
     "slide_type": "skip"
    }
   },
   "source": [
    "<a id=\"id_5_3_3_3\"></a>\n",
    "#### [Test](#id_5_3_3_3)\n",
    "[Back](#id_5_3_3)"
   ]
  },
  {
   "cell_type": "code",
   "execution_count": 29,
   "metadata": {
    "slideshow": {
     "slide_type": "skip"
    }
   },
   "outputs": [
    {
     "data": {
      "text/plain": [
       "Tests Performed                  9655\n",
       "People Tested                    4557\n",
       "Samples Tested                   3731\n",
       "Units Unclear                     441\n",
       "People Tested (Incl. non-PCR)     191\n",
       "Name: test_units, dtype: int64"
      ]
     },
     "execution_count": 29,
     "metadata": {},
     "output_type": "execute_result"
    }
   ],
   "source": [
    "# Check 'test_units' values\n",
    "df_copy.test_units.value_counts()"
   ]
  },
  {
   "cell_type": "markdown",
   "metadata": {
    "slideshow": {
     "slide_type": "skip"
    }
   },
   "source": [
    "<a id=\"id_5_3_4\"></a>\n",
    "### [Variables Continent and Test Units Data Type](#id_5_3_4)\n",
    "[Define](#id_5_3_4_1) [Code](#id_5_3_4_2) [Test](#id_5_3_4_3)\n",
    "\n",
    "[Back to Cleaning for Quality](#id_5_3)<br>\n",
    "[Back to Docummentions](#id_4_3_1)"
   ]
  },
  {
   "cell_type": "markdown",
   "metadata": {
    "slideshow": {
     "slide_type": "skip"
    }
   },
   "source": [
    "<a id=\"id_5_3_4_1\"></a>\n",
    "#### [Define](#id_5_3_4_1)\n",
    "Change data type for variables `continent` and `unit_types`  from object to `categorical` data type using `astype` method.\n",
    "\n",
    "[Back](#id_5_3_4)"
   ]
  },
  {
   "cell_type": "markdown",
   "metadata": {
    "slideshow": {
     "slide_type": "skip"
    }
   },
   "source": [
    "<a id=\"id_5_3_4_2\"></a>\n",
    "#### [Code](#id_5_3_4_2)\n",
    "[Back](#id_5_3_4)"
   ]
  },
  {
   "cell_type": "code",
   "execution_count": 30,
   "metadata": {
    "slideshow": {
     "slide_type": "skip"
    }
   },
   "outputs": [],
   "source": [
    "# Creating two functions to replace datatypes for continent and test_units with new ones\n",
    "def set_continent_dtype(df):\n",
    "    continents_unique = pd.Series(df['continent'].unique()).dropna()\n",
    "    # Creating new categorical type\n",
    "    continent_category = pd.CategoricalDtype(continents_unique)\n",
    "    # Replaceing old data type with new ones\n",
    "    df['continent'] = df['continent'].astype(continent_category)\n",
    "\n",
    "def set_test_units_dtype(df):\n",
    "    test_units_unique = pd.Series(df['test_units'].unique()).dropna()\n",
    "    unit_types_category = pd.CategoricalDtype(test_units_unique)\n",
    "    df['test_units'] = df['test_units'].astype(unit_types_category)\n",
    "\n",
    "# Changing the data types\n",
    "set_continent_dtype(df_copy)\n",
    "set_test_units_dtype(df_copy)"
   ]
  },
  {
   "cell_type": "markdown",
   "metadata": {
    "slideshow": {
     "slide_type": "skip"
    }
   },
   "source": [
    "<a id=\"id_5_3_4_3\"></a>\n",
    "#### [Test](#id_5_3_4_3)\n",
    "[Back](#id_5_3_4)"
   ]
  },
  {
   "cell_type": "code",
   "execution_count": 31,
   "metadata": {
    "slideshow": {
     "slide_type": "skip"
    }
   },
   "outputs": [
    {
     "data": {
      "text/plain": [
       "continent     category\n",
       "test_units    category\n",
       "dtype: object"
      ]
     },
     "execution_count": 31,
     "metadata": {},
     "output_type": "execute_result"
    }
   ],
   "source": [
    "df_copy[['continent', 'test_units']].dtypes"
   ]
  },
  {
   "cell_type": "markdown",
   "metadata": {
    "slideshow": {
     "slide_type": "skip"
    }
   },
   "source": [
    "<a id=\"id_5_3_5\"></a>\n",
    "### [**Country Code Missing Values [Iso Code]**](#id_5_3_5)\n",
    "[Define](#id_5_3_5_1) [Code](#id_5_3_5_2) [Test](#id_5_3_5_3)\n",
    "\n",
    "[Back to Cleaning for Quality](#id_5_3)<br>\n",
    "[Back to Docummentions](#id_4_3_1)"
   ]
  },
  {
   "cell_type": "markdown",
   "metadata": {
    "slideshow": {
     "slide_type": "skip"
    }
   },
   "source": [
    "<a id=\"id_5_3_5_1\"></a>\n",
    "#### [Define](#id_5_3_5_1)\n",
    "Replace missing values in `country_code` variable with `INT` as abbreviation to `International`.\n",
    "\n",
    "[Back](#id_5_3_5)"
   ]
  },
  {
   "cell_type": "markdown",
   "metadata": {
    "slideshow": {
     "slide_type": "skip"
    }
   },
   "source": [
    "<a id=\"id_5_3_5_2\"></a>\n",
    "#### [Code](#id_5_3_5_2)\n",
    "[Back](#id_5_3_5)"
   ]
  },
  {
   "cell_type": "code",
   "execution_count": 32,
   "metadata": {
    "slideshow": {
     "slide_type": "skip"
    }
   },
   "outputs": [],
   "source": [
    "# Replcae nulls in 'country_code' with 'INT'\n",
    "df_copy['country_code'] = df_copy['country_code'].fillna('INT')"
   ]
  },
  {
   "cell_type": "markdown",
   "metadata": {
    "slideshow": {
     "slide_type": "skip"
    }
   },
   "source": [
    "<a id=\"id_5_3_5_3\"></a>\n",
    "#### [Test](#id_5_3_5_3)\n",
    "[Back](#id_5_3_5)"
   ]
  },
  {
   "cell_type": "code",
   "execution_count": 33,
   "metadata": {
    "slideshow": {
     "slide_type": "skip"
    }
   },
   "outputs": [],
   "source": [
    "# Making sure there are no nulls left in 'country_code'\n",
    "assert df_copy['country_code'].isnull().any() == False"
   ]
  },
  {
   "cell_type": "markdown",
   "metadata": {
    "slideshow": {
     "slide_type": "skip"
    }
   },
   "source": [
    "<a id=\"id_5_4\"></a>\n",
    "## [Cleaning for Tidiness](#id_5_4)\n",
    "Now, it's time for **Tidiness** issues.\n",
    "\n",
    "[Back to Cleaning Data](#id_5)<br>\n",
    "[Back to Assessment Docummentions](#id_4_3)"
   ]
  },
  {
   "cell_type": "markdown",
   "metadata": {
    "slideshow": {
     "slide_type": "skip"
    }
   },
   "source": [
    "<a id=\"id_5_4_1\"></a>\n",
    "### [Define](#id_5_4_1)\n",
    "**Separate `df_copy` to the following tables:**\n",
    "- **country:** \n",
    "    - contains variables `country_code`, `continent` and `country_name`.\n",
    "- **corona:** \n",
    "    - contains `country_code` and variables from `date` to `stringency_index`.\n",
    "- **economy:**\n",
    "    - contains variables `country_code`, `gdp_per_capita` and `extreme_poverty`\n",
    "- **pop:**\n",
    "    - contains variables `country_code`, `population`, `population_density`, `median_age`, `aged_65_older` and `aged_70_older`.\n",
    "- **healthcare:**\n",
    "    - contains `country_code` and variables from `cardiovasc_death_rate` to `hospital_beds_per_thousand`.\n",
    "- **social:**\n",
    "    - contains variables `country_code`, `life_expectancy` and `human_development_index`.\n",
    "        \n",
    "[Back](#id_5_4)"
   ]
  },
  {
   "cell_type": "markdown",
   "metadata": {
    "slideshow": {
     "slide_type": "skip"
    }
   },
   "source": [
    "<a id=\"id_5_4_2\"></a>\n",
    "### [Code](#id_5_4_2)\n",
    "\n",
    "[Back](#id_5_4)"
   ]
  },
  {
   "cell_type": "code",
   "execution_count": 34,
   "metadata": {
    "slideshow": {
     "slide_type": "skip"
    }
   },
   "outputs": [],
   "source": [
    "# Seperating each variable to its category\n",
    "country_vars  = ['country_code', 'continent', 'country_name']\n",
    "corona_vars     = ['country_code', 'date', 'total_cases', 'new_cases', 'new_cases_smoothed', 'total_deaths', 'new_deaths',\n",
    "                   'new_deaths_smoothed', 'total_cases_per_million', 'new_cases_per_million', 'new_cases_smoothed_per_million',\n",
    "                   'total_deaths_per_million', 'new_deaths_per_million', 'new_deaths_smoothed_per_million', 'new_tests',\n",
    "                   'total_tests', 'total_tests_per_thousand', 'new_tests_per_thousand', 'new_tests_smoothed', \n",
    "                   'new_tests_smoothed_per_thousand', 'tests_per_case', 'positive_rate', 'test_units', 'stringency_index']\n",
    "economy_vars    = ['country_code', 'gdp_per_capita', 'extreme_poverty']\n",
    "population_vars = ['country_code', 'population', 'population_density', 'median_age', 'aged_65_older', 'aged_70_older']\n",
    "healthcare_vars = ['country_code', 'cardiovasc_death_rate', 'diabetes_prevalence', 'female_smokers', \n",
    "                   'male_smokers', 'handwashing_facilities', 'hospital_beds_per_thousand',]\n",
    "social_vars     = ['country_code', 'life_expectancy', 'human_development_index']\n",
    "\n",
    "# Creating list for dataframe names\n",
    "df_names = ['country', 'corona', 'economy', 'pop', 'healthcare', 'social']\n",
    "\n",
    "# Creating list for dataframe variables\n",
    "df_vars = [country_vars, corona_vars, economy_vars, population_vars, healthcare_vars, social_vars]\n",
    "\n",
    "# Creating new dataframes with new variables\n",
    "for df_name, df_var in zip(df_names, df_vars):\n",
    "    vars()[df_name] = df_copy.copy()[df_var] # Using vars() to use string as variable\n",
    "\n",
    "# Drop duplicated values after creating the new variables (country attributes)\n",
    "dfs_non_corona = [country, corona, economy, pop, healthcare, social]\n",
    "for df_before in dfs_non_corona:\n",
    "    df_before.drop_duplicates(inplace = True)\n",
    "    df_before.reset_index(inplace = True, drop = True) # Reset index and don't store the old index"
   ]
  },
  {
   "cell_type": "markdown",
   "metadata": {},
   "source": [
    "<a id=\"id_5_4_3\"></a>\n",
    "### [Test](#id_5_4_3)\n",
    "[Back](#id_5_4)"
   ]
  },
  {
   "cell_type": "code",
   "execution_count": 35,
   "metadata": {
    "scrolled": true
   },
   "outputs": [
    {
     "data": {
      "text/html": [
       "<div>\n",
       "<style scoped>\n",
       "    .dataframe tbody tr th:only-of-type {\n",
       "        vertical-align: middle;\n",
       "    }\n",
       "\n",
       "    .dataframe tbody tr th {\n",
       "        vertical-align: top;\n",
       "    }\n",
       "\n",
       "    .dataframe thead th {\n",
       "        text-align: right;\n",
       "    }\n",
       "</style>\n",
       "<table border=\"1\" class=\"dataframe\">\n",
       "  <thead>\n",
       "    <tr style=\"text-align: right;\">\n",
       "      <th></th>\n",
       "      <th>country_code</th>\n",
       "      <th>continent</th>\n",
       "      <th>country_name</th>\n",
       "    </tr>\n",
       "  </thead>\n",
       "  <tbody>\n",
       "    <tr>\n",
       "      <th>53</th>\n",
       "      <td>DNK</td>\n",
       "      <td>Europe</td>\n",
       "      <td>Denmark</td>\n",
       "    </tr>\n",
       "    <tr>\n",
       "      <th>18</th>\n",
       "      <td>BGD</td>\n",
       "      <td>Asia</td>\n",
       "      <td>Bangladesh</td>\n",
       "    </tr>\n",
       "    <tr>\n",
       "      <th>89</th>\n",
       "      <td>IDN</td>\n",
       "      <td>Asia</td>\n",
       "      <td>Indonesia</td>\n",
       "    </tr>\n",
       "    <tr>\n",
       "      <th>128</th>\n",
       "      <td>MLT</td>\n",
       "      <td>Europe</td>\n",
       "      <td>Malta</td>\n",
       "    </tr>\n",
       "  </tbody>\n",
       "</table>\n",
       "</div>"
      ],
      "text/plain": [
       "    country_code continent country_name\n",
       "53           DNK    Europe      Denmark\n",
       "18           BGD      Asia   Bangladesh\n",
       "89           IDN      Asia    Indonesia\n",
       "128          MLT    Europe        Malta"
      ]
     },
     "metadata": {},
     "output_type": "display_data"
    },
    {
     "data": {
      "text/html": [
       "<div>\n",
       "<style scoped>\n",
       "    .dataframe tbody tr th:only-of-type {\n",
       "        vertical-align: middle;\n",
       "    }\n",
       "\n",
       "    .dataframe tbody tr th {\n",
       "        vertical-align: top;\n",
       "    }\n",
       "\n",
       "    .dataframe thead th {\n",
       "        text-align: right;\n",
       "    }\n",
       "</style>\n",
       "<table border=\"1\" class=\"dataframe\">\n",
       "  <thead>\n",
       "    <tr style=\"text-align: right;\">\n",
       "      <th></th>\n",
       "      <th>country_code</th>\n",
       "      <th>date</th>\n",
       "      <th>total_cases</th>\n",
       "      <th>new_cases</th>\n",
       "      <th>new_cases_smoothed</th>\n",
       "      <th>total_deaths</th>\n",
       "      <th>new_deaths</th>\n",
       "      <th>new_deaths_smoothed</th>\n",
       "      <th>total_cases_per_million</th>\n",
       "      <th>new_cases_per_million</th>\n",
       "      <th>...</th>\n",
       "      <th>new_tests</th>\n",
       "      <th>total_tests</th>\n",
       "      <th>total_tests_per_thousand</th>\n",
       "      <th>new_tests_per_thousand</th>\n",
       "      <th>new_tests_smoothed</th>\n",
       "      <th>new_tests_smoothed_per_thousand</th>\n",
       "      <th>tests_per_case</th>\n",
       "      <th>positive_rate</th>\n",
       "      <th>test_units</th>\n",
       "      <th>stringency_index</th>\n",
       "    </tr>\n",
       "  </thead>\n",
       "  <tbody>\n",
       "    <tr>\n",
       "      <th>646</th>\n",
       "      <td>AIA</td>\n",
       "      <td>2020-04-04</td>\n",
       "      <td>3.0</td>\n",
       "      <td>0.0</td>\n",
       "      <td>0.143</td>\n",
       "      <td>0.0</td>\n",
       "      <td>0.0</td>\n",
       "      <td>0.000</td>\n",
       "      <td>199.973</td>\n",
       "      <td>0.000</td>\n",
       "      <td>...</td>\n",
       "      <td>NaN</td>\n",
       "      <td>NaN</td>\n",
       "      <td>NaN</td>\n",
       "      <td>NaN</td>\n",
       "      <td>NaN</td>\n",
       "      <td>NaN</td>\n",
       "      <td>NaN</td>\n",
       "      <td>NaN</td>\n",
       "      <td>NaN</td>\n",
       "      <td>74.07</td>\n",
       "    </tr>\n",
       "    <tr>\n",
       "      <th>4399</th>\n",
       "      <td>BHR</td>\n",
       "      <td>2020-02-23</td>\n",
       "      <td>0.0</td>\n",
       "      <td>0.0</td>\n",
       "      <td>0.000</td>\n",
       "      <td>0.0</td>\n",
       "      <td>0.0</td>\n",
       "      <td>0.000</td>\n",
       "      <td>0.000</td>\n",
       "      <td>0.000</td>\n",
       "      <td>...</td>\n",
       "      <td>NaN</td>\n",
       "      <td>NaN</td>\n",
       "      <td>NaN</td>\n",
       "      <td>NaN</td>\n",
       "      <td>NaN</td>\n",
       "      <td>NaN</td>\n",
       "      <td>NaN</td>\n",
       "      <td>NaN</td>\n",
       "      <td>NaN</td>\n",
       "      <td>19.44</td>\n",
       "    </tr>\n",
       "    <tr>\n",
       "      <th>30645</th>\n",
       "      <td>NGA</td>\n",
       "      <td>2020-09-12</td>\n",
       "      <td>56017.0</td>\n",
       "      <td>188.0</td>\n",
       "      <td>182.000</td>\n",
       "      <td>1076.0</td>\n",
       "      <td>1.0</td>\n",
       "      <td>3.571</td>\n",
       "      <td>271.743</td>\n",
       "      <td>0.912</td>\n",
       "      <td>...</td>\n",
       "      <td>1904.0</td>\n",
       "      <td>438135.0</td>\n",
       "      <td>2.125</td>\n",
       "      <td>0.009</td>\n",
       "      <td>2962.0</td>\n",
       "      <td>0.014</td>\n",
       "      <td>16.275</td>\n",
       "      <td>0.061</td>\n",
       "      <td>Samples Tested</td>\n",
       "      <td>NaN</td>\n",
       "    </tr>\n",
       "    <tr>\n",
       "      <th>37488</th>\n",
       "      <td>SSD</td>\n",
       "      <td>2020-08-31</td>\n",
       "      <td>2519.0</td>\n",
       "      <td>0.0</td>\n",
       "      <td>2.857</td>\n",
       "      <td>47.0</td>\n",
       "      <td>0.0</td>\n",
       "      <td>0.000</td>\n",
       "      <td>225.037</td>\n",
       "      <td>0.000</td>\n",
       "      <td>...</td>\n",
       "      <td>NaN</td>\n",
       "      <td>NaN</td>\n",
       "      <td>NaN</td>\n",
       "      <td>NaN</td>\n",
       "      <td>NaN</td>\n",
       "      <td>NaN</td>\n",
       "      <td>NaN</td>\n",
       "      <td>NaN</td>\n",
       "      <td>NaN</td>\n",
       "      <td>77.78</td>\n",
       "    </tr>\n",
       "  </tbody>\n",
       "</table>\n",
       "<p>4 rows × 24 columns</p>\n",
       "</div>"
      ],
      "text/plain": [
       "      country_code       date  total_cases  new_cases  new_cases_smoothed  \\\n",
       "646            AIA 2020-04-04          3.0        0.0               0.143   \n",
       "4399           BHR 2020-02-23          0.0        0.0               0.000   \n",
       "30645          NGA 2020-09-12      56017.0      188.0             182.000   \n",
       "37488          SSD 2020-08-31       2519.0        0.0               2.857   \n",
       "\n",
       "       total_deaths  new_deaths  new_deaths_smoothed  total_cases_per_million  \\\n",
       "646             0.0         0.0                0.000                  199.973   \n",
       "4399            0.0         0.0                0.000                    0.000   \n",
       "30645        1076.0         1.0                3.571                  271.743   \n",
       "37488          47.0         0.0                0.000                  225.037   \n",
       "\n",
       "       new_cases_per_million  ...  new_tests  total_tests  \\\n",
       "646                    0.000  ...        NaN          NaN   \n",
       "4399                   0.000  ...        NaN          NaN   \n",
       "30645                  0.912  ...     1904.0     438135.0   \n",
       "37488                  0.000  ...        NaN          NaN   \n",
       "\n",
       "       total_tests_per_thousand  new_tests_per_thousand  new_tests_smoothed  \\\n",
       "646                         NaN                     NaN                 NaN   \n",
       "4399                        NaN                     NaN                 NaN   \n",
       "30645                     2.125                   0.009              2962.0   \n",
       "37488                       NaN                     NaN                 NaN   \n",
       "\n",
       "       new_tests_smoothed_per_thousand  tests_per_case  positive_rate  \\\n",
       "646                                NaN             NaN            NaN   \n",
       "4399                               NaN             NaN            NaN   \n",
       "30645                            0.014          16.275          0.061   \n",
       "37488                              NaN             NaN            NaN   \n",
       "\n",
       "           test_units  stringency_index  \n",
       "646               NaN             74.07  \n",
       "4399              NaN             19.44  \n",
       "30645  Samples Tested               NaN  \n",
       "37488             NaN             77.78  \n",
       "\n",
       "[4 rows x 24 columns]"
      ]
     },
     "metadata": {},
     "output_type": "display_data"
    },
    {
     "data": {
      "text/html": [
       "<div>\n",
       "<style scoped>\n",
       "    .dataframe tbody tr th:only-of-type {\n",
       "        vertical-align: middle;\n",
       "    }\n",
       "\n",
       "    .dataframe tbody tr th {\n",
       "        vertical-align: top;\n",
       "    }\n",
       "\n",
       "    .dataframe thead th {\n",
       "        text-align: right;\n",
       "    }\n",
       "</style>\n",
       "<table border=\"1\" class=\"dataframe\">\n",
       "  <thead>\n",
       "    <tr style=\"text-align: right;\">\n",
       "      <th></th>\n",
       "      <th>country_code</th>\n",
       "      <th>gdp_per_capita</th>\n",
       "      <th>extreme_poverty</th>\n",
       "    </tr>\n",
       "  </thead>\n",
       "  <tbody>\n",
       "    <tr>\n",
       "      <th>95</th>\n",
       "      <td>ISL</td>\n",
       "      <td>46482.958</td>\n",
       "      <td>0.2</td>\n",
       "    </tr>\n",
       "    <tr>\n",
       "      <th>27</th>\n",
       "      <td>BRA</td>\n",
       "      <td>14103.452</td>\n",
       "      <td>3.4</td>\n",
       "    </tr>\n",
       "    <tr>\n",
       "      <th>176</th>\n",
       "      <td>SVK</td>\n",
       "      <td>30155.152</td>\n",
       "      <td>0.7</td>\n",
       "    </tr>\n",
       "    <tr>\n",
       "      <th>114</th>\n",
       "      <td>LIE</td>\n",
       "      <td>NaN</td>\n",
       "      <td>NaN</td>\n",
       "    </tr>\n",
       "  </tbody>\n",
       "</table>\n",
       "</div>"
      ],
      "text/plain": [
       "    country_code  gdp_per_capita  extreme_poverty\n",
       "95           ISL       46482.958              0.2\n",
       "27           BRA       14103.452              3.4\n",
       "176          SVK       30155.152              0.7\n",
       "114          LIE             NaN              NaN"
      ]
     },
     "metadata": {},
     "output_type": "display_data"
    },
    {
     "data": {
      "text/html": [
       "<div>\n",
       "<style scoped>\n",
       "    .dataframe tbody tr th:only-of-type {\n",
       "        vertical-align: middle;\n",
       "    }\n",
       "\n",
       "    .dataframe tbody tr th {\n",
       "        vertical-align: top;\n",
       "    }\n",
       "\n",
       "    .dataframe thead th {\n",
       "        text-align: right;\n",
       "    }\n",
       "</style>\n",
       "<table border=\"1\" class=\"dataframe\">\n",
       "  <thead>\n",
       "    <tr style=\"text-align: right;\">\n",
       "      <th></th>\n",
       "      <th>country_code</th>\n",
       "      <th>population</th>\n",
       "      <th>population_density</th>\n",
       "      <th>median_age</th>\n",
       "      <th>aged_65_older</th>\n",
       "      <th>aged_70_older</th>\n",
       "    </tr>\n",
       "  </thead>\n",
       "  <tbody>\n",
       "    <tr>\n",
       "      <th>152</th>\n",
       "      <td>PHL</td>\n",
       "      <td>109581085.0</td>\n",
       "      <td>351.873</td>\n",
       "      <td>25.2</td>\n",
       "      <td>4.803</td>\n",
       "      <td>2.661</td>\n",
       "    </tr>\n",
       "    <tr>\n",
       "      <th>167</th>\n",
       "      <td>SGP</td>\n",
       "      <td>5850343.0</td>\n",
       "      <td>7915.731</td>\n",
       "      <td>42.4</td>\n",
       "      <td>12.922</td>\n",
       "      <td>7.049</td>\n",
       "    </tr>\n",
       "    <tr>\n",
       "      <th>24</th>\n",
       "      <td>BLZ</td>\n",
       "      <td>397621.0</td>\n",
       "      <td>16.426</td>\n",
       "      <td>25.0</td>\n",
       "      <td>3.853</td>\n",
       "      <td>2.279</td>\n",
       "    </tr>\n",
       "    <tr>\n",
       "      <th>38</th>\n",
       "      <td>CMR</td>\n",
       "      <td>26545864.0</td>\n",
       "      <td>50.885</td>\n",
       "      <td>18.8</td>\n",
       "      <td>3.165</td>\n",
       "      <td>1.919</td>\n",
       "    </tr>\n",
       "  </tbody>\n",
       "</table>\n",
       "</div>"
      ],
      "text/plain": [
       "    country_code   population  population_density  median_age  aged_65_older  \\\n",
       "152          PHL  109581085.0             351.873        25.2          4.803   \n",
       "167          SGP    5850343.0            7915.731        42.4         12.922   \n",
       "24           BLZ     397621.0              16.426        25.0          3.853   \n",
       "38           CMR   26545864.0              50.885        18.8          3.165   \n",
       "\n",
       "     aged_70_older  \n",
       "152          2.661  \n",
       "167          7.049  \n",
       "24           2.279  \n",
       "38           1.919  "
      ]
     },
     "metadata": {},
     "output_type": "display_data"
    },
    {
     "data": {
      "text/html": [
       "<div>\n",
       "<style scoped>\n",
       "    .dataframe tbody tr th:only-of-type {\n",
       "        vertical-align: middle;\n",
       "    }\n",
       "\n",
       "    .dataframe tbody tr th {\n",
       "        vertical-align: top;\n",
       "    }\n",
       "\n",
       "    .dataframe thead th {\n",
       "        text-align: right;\n",
       "    }\n",
       "</style>\n",
       "<table border=\"1\" class=\"dataframe\">\n",
       "  <thead>\n",
       "    <tr style=\"text-align: right;\">\n",
       "      <th></th>\n",
       "      <th>country_code</th>\n",
       "      <th>cardiovasc_death_rate</th>\n",
       "      <th>diabetes_prevalence</th>\n",
       "      <th>female_smokers</th>\n",
       "      <th>male_smokers</th>\n",
       "      <th>handwashing_facilities</th>\n",
       "      <th>hospital_beds_per_thousand</th>\n",
       "    </tr>\n",
       "  </thead>\n",
       "  <tbody>\n",
       "    <tr>\n",
       "      <th>12</th>\n",
       "      <td>AZE</td>\n",
       "      <td>559.812</td>\n",
       "      <td>7.11</td>\n",
       "      <td>0.3</td>\n",
       "      <td>42.5</td>\n",
       "      <td>83.241</td>\n",
       "      <td>4.70</td>\n",
       "    </tr>\n",
       "    <tr>\n",
       "      <th>197</th>\n",
       "      <td>USA</td>\n",
       "      <td>151.089</td>\n",
       "      <td>10.79</td>\n",
       "      <td>19.1</td>\n",
       "      <td>24.6</td>\n",
       "      <td>NaN</td>\n",
       "      <td>2.77</td>\n",
       "    </tr>\n",
       "    <tr>\n",
       "      <th>11</th>\n",
       "      <td>AUT</td>\n",
       "      <td>145.183</td>\n",
       "      <td>6.35</td>\n",
       "      <td>28.4</td>\n",
       "      <td>30.9</td>\n",
       "      <td>NaN</td>\n",
       "      <td>7.37</td>\n",
       "    </tr>\n",
       "    <tr>\n",
       "      <th>24</th>\n",
       "      <td>BLZ</td>\n",
       "      <td>176.957</td>\n",
       "      <td>17.11</td>\n",
       "      <td>NaN</td>\n",
       "      <td>NaN</td>\n",
       "      <td>90.083</td>\n",
       "      <td>1.30</td>\n",
       "    </tr>\n",
       "  </tbody>\n",
       "</table>\n",
       "</div>"
      ],
      "text/plain": [
       "    country_code  cardiovasc_death_rate  diabetes_prevalence  female_smokers  \\\n",
       "12           AZE                559.812                 7.11             0.3   \n",
       "197          USA                151.089                10.79            19.1   \n",
       "11           AUT                145.183                 6.35            28.4   \n",
       "24           BLZ                176.957                17.11             NaN   \n",
       "\n",
       "     male_smokers  handwashing_facilities  hospital_beds_per_thousand  \n",
       "12           42.5                  83.241                        4.70  \n",
       "197          24.6                     NaN                        2.77  \n",
       "11           30.9                     NaN                        7.37  \n",
       "24            NaN                  90.083                        1.30  "
      ]
     },
     "metadata": {},
     "output_type": "display_data"
    },
    {
     "data": {
      "text/html": [
       "<div>\n",
       "<style scoped>\n",
       "    .dataframe tbody tr th:only-of-type {\n",
       "        vertical-align: middle;\n",
       "    }\n",
       "\n",
       "    .dataframe tbody tr th {\n",
       "        vertical-align: top;\n",
       "    }\n",
       "\n",
       "    .dataframe thead th {\n",
       "        text-align: right;\n",
       "    }\n",
       "</style>\n",
       "<table border=\"1\" class=\"dataframe\">\n",
       "  <thead>\n",
       "    <tr style=\"text-align: right;\">\n",
       "      <th></th>\n",
       "      <th>country_code</th>\n",
       "      <th>life_expectancy</th>\n",
       "      <th>human_development_index</th>\n",
       "    </tr>\n",
       "  </thead>\n",
       "  <tbody>\n",
       "    <tr>\n",
       "      <th>56</th>\n",
       "      <td>ECU</td>\n",
       "      <td>77.01</td>\n",
       "      <td>0.752</td>\n",
       "    </tr>\n",
       "    <tr>\n",
       "      <th>9</th>\n",
       "      <td>ATG</td>\n",
       "      <td>77.02</td>\n",
       "      <td>0.780</td>\n",
       "    </tr>\n",
       "    <tr>\n",
       "      <th>80</th>\n",
       "      <td>GRL</td>\n",
       "      <td>71.70</td>\n",
       "      <td>NaN</td>\n",
       "    </tr>\n",
       "    <tr>\n",
       "      <th>177</th>\n",
       "      <td>SVN</td>\n",
       "      <td>81.32</td>\n",
       "      <td>0.896</td>\n",
       "    </tr>\n",
       "  </tbody>\n",
       "</table>\n",
       "</div>"
      ],
      "text/plain": [
       "    country_code  life_expectancy  human_development_index\n",
       "56           ECU            77.01                    0.752\n",
       "9            ATG            77.02                    0.780\n",
       "80           GRL            71.70                      NaN\n",
       "177          SVN            81.32                    0.896"
      ]
     },
     "metadata": {},
     "output_type": "display_data"
    }
   ],
   "source": [
    "# Checking duplicated values in dataframes\n",
    "dfs_with_corona = [country, corona, economy, pop, healthcare, social]\n",
    "for df_clean in dfs_with_corona:\n",
    "    assert df_clean.duplicated(keep = False).any() == False\n",
    "\n",
    "# Check if the new dataframes except 'corona' == 212 number of unique countries\n",
    "dfs_non_corona = [country, economy, pop, healthcare, social]\n",
    "for df_non_corona in dfs_non_corona:\n",
    "    assert df_non_corona.shape[0] == 212\n",
    "    assert 'country_code' in df_non_corona.columns.values\n",
    "\n",
    "# Displaying a random sample of each dataframe\n",
    "for df_clean in dfs_with_corona:\n",
    "    display(df_clean.sample(4))"
   ]
  },
  {
   "cell_type": "markdown",
   "metadata": {},
   "source": [
    "<a id=\"id_5_4\"></a>\n",
    "> ### [So Far, So Good](#id_5_4)\n",
    "Now, we have complete wrangling the data set it's time to [Store it](#id_6). Let's cehck [Our Goal](#id_1_4).\n",
    ">- [X] Gathering\n",
    ">- [X] Assessing\n",
    ">- [X] Cleaning\n",
    ">- [ ] Storing\n",
    ">- [ ] Analyzing\n",
    ">- [ ] Visualizing\n",
    ">- [ ] Reporting\n",
    ">\n",
    "> [Back to Cleaning Data](#id_5)"
   ]
  },
  {
   "cell_type": "markdown",
   "metadata": {},
   "source": [
    "<a id=\"id_6\"></a>\n",
    "<h1 style=\"font-size:30px; color:#3A71AE\">Data Storing</h1>\n",
    "\n",
    "After [**Gathering**](#id_3), [**Assessing**](#id_4) and [**Cleaning**](#id_5) our data, we are ready to store it. \n",
    "\n",
    "In this project we will store our data in `CSV` files.\n",
    "\n",
    "[Back to Top](#top)"
   ]
  },
  {
   "cell_type": "code",
   "execution_count": 36,
   "metadata": {},
   "outputs": [],
   "source": [
    "import os\n",
    "\n",
    "# dfs and df names\n",
    "dfs_with_corona = [country, corona, economy, pop, healthcare, social]\n",
    "df_names = ['country', 'corona', 'economy', 'pop', 'healthcare', 'social']\n",
    "\n",
    "# Removing old stored dataframes to start fresh\n",
    "for df_name in df_names:\n",
    "    df_path = 'data/{}.csv'.format(df_name)\n",
    "    if os.path.exists(df_path):\n",
    "        os.remove(df_path)\n",
    "        \n",
    "# Save each dataframe to CSV file\n",
    "for df_clean, df_name in zip(dfs_with_corona, df_names):\n",
    "    df_clean.to_csv('data/{}_clean.csv'.format(df_name), index=False)"
   ]
  },
  {
   "cell_type": "markdown",
   "metadata": {},
   "source": [
    "<a id=\"id_4_1\"></a>\n",
    "> ### [So Far, So Good](#id_3_3_4)\n",
    "Now, Our data are stored in these tables and ready to be used in next [**Analyzing and Visualizing**](1_data_analyzing_visualizing.ipynb) notebook.\n",
    ">- [X] Gathering\n",
    ">- [X] Assessing\n",
    ">- [X] Cleaning\n",
    ">- [x] Storing\n",
    ">- [ ] Analyzing\n",
    ">- [ ] Visualizing\n",
    ">- [ ] Reporting\n",
    "> \n",
    "> [Back to Data Storing](#id_6)"
   ]
  }
 ],
 "metadata": {
  "kernelspec": {
   "display_name": "Python 3",
   "language": "python",
   "name": "python3"
  },
  "language_info": {
   "codemirror_mode": {
    "name": "ipython",
    "version": 3
   },
   "file_extension": ".py",
   "mimetype": "text/x-python",
   "name": "python",
   "nbconvert_exporter": "python",
   "pygments_lexer": "ipython3",
   "version": "3.7.7"
  }
 },
 "nbformat": 4,
 "nbformat_minor": 4
}
